{
  "cells": [
    {
      "cell_type": "code",
      "execution_count": null,
      "metadata": {
        "id": "_CTOmSMnH-5D"
      },
      "outputs": [],
      "source": [
        "import numpy as np\n",
        "import pandas as pd"
      ]
    },
    {
      "cell_type": "code",
      "execution_count": null,
      "metadata": {
        "id": "cvFuiybnH-5J"
      },
      "outputs": [],
      "source": [
        "onlinedeliverydata_data = pd.read_csv(\"/content/onlinedeliverydata.csv\")"
      ]
    },
    {
      "cell_type": "code",
      "execution_count": null,
      "metadata": {
        "id": "vTgiZow8H-5L",
        "outputId": "2eaad79f-c71e-461f-dca6-01a10d8ad6de"
      },
      "outputs": [
        {
          "data": {
            "text/html": [
              "<div>\n",
              "<style scoped>\n",
              "    .dataframe tbody tr th:only-of-type {\n",
              "        vertical-align: middle;\n",
              "    }\n",
              "\n",
              "    .dataframe tbody tr th {\n",
              "        vertical-align: top;\n",
              "    }\n",
              "\n",
              "    .dataframe thead th {\n",
              "        text-align: right;\n",
              "    }\n",
              "</style>\n",
              "<table border=\"1\" class=\"dataframe\">\n",
              "  <thead>\n",
              "    <tr style=\"text-align: right;\">\n",
              "      <th></th>\n",
              "      <th>Age</th>\n",
              "      <th>Gender</th>\n",
              "      <th>Marital Status</th>\n",
              "      <th>Occupation</th>\n",
              "      <th>Monthly Income</th>\n",
              "      <th>Educational Qualifications</th>\n",
              "      <th>Family size</th>\n",
              "      <th>latitude</th>\n",
              "      <th>longitude</th>\n",
              "      <th>Pin code</th>\n",
              "      <th>...</th>\n",
              "      <th>Less Delivery time</th>\n",
              "      <th>High Quality of package</th>\n",
              "      <th>Number of calls</th>\n",
              "      <th>Politeness</th>\n",
              "      <th>Freshness</th>\n",
              "      <th>Temperature</th>\n",
              "      <th>Good Taste</th>\n",
              "      <th>Good Quantity</th>\n",
              "      <th>Output</th>\n",
              "      <th>Reviews</th>\n",
              "    </tr>\n",
              "  </thead>\n",
              "  <tbody>\n",
              "    <tr>\n",
              "      <th>0</th>\n",
              "      <td>20</td>\n",
              "      <td>Female</td>\n",
              "      <td>Single</td>\n",
              "      <td>Student</td>\n",
              "      <td>No Income</td>\n",
              "      <td>Post Graduate</td>\n",
              "      <td>4</td>\n",
              "      <td>12.9766</td>\n",
              "      <td>77.5993</td>\n",
              "      <td>560001</td>\n",
              "      <td>...</td>\n",
              "      <td>Moderately Important</td>\n",
              "      <td>Moderately Important</td>\n",
              "      <td>Moderately Important</td>\n",
              "      <td>Moderately Important</td>\n",
              "      <td>Moderately Important</td>\n",
              "      <td>Moderately Important</td>\n",
              "      <td>Moderately Important</td>\n",
              "      <td>Moderately Important</td>\n",
              "      <td>Yes</td>\n",
              "      <td>Nil\\n</td>\n",
              "    </tr>\n",
              "    <tr>\n",
              "      <th>1</th>\n",
              "      <td>24</td>\n",
              "      <td>Female</td>\n",
              "      <td>Single</td>\n",
              "      <td>Student</td>\n",
              "      <td>Below Rs.10000</td>\n",
              "      <td>Graduate</td>\n",
              "      <td>3</td>\n",
              "      <td>12.9770</td>\n",
              "      <td>77.5773</td>\n",
              "      <td>560009</td>\n",
              "      <td>...</td>\n",
              "      <td>Very Important</td>\n",
              "      <td>Very Important</td>\n",
              "      <td>Very Important</td>\n",
              "      <td>Very Important</td>\n",
              "      <td>Very Important</td>\n",
              "      <td>Very Important</td>\n",
              "      <td>Very Important</td>\n",
              "      <td>Very Important</td>\n",
              "      <td>Yes</td>\n",
              "      <td>Nil</td>\n",
              "    </tr>\n",
              "    <tr>\n",
              "      <th>2</th>\n",
              "      <td>22</td>\n",
              "      <td>Male</td>\n",
              "      <td>Single</td>\n",
              "      <td>Student</td>\n",
              "      <td>Below Rs.10000</td>\n",
              "      <td>Post Graduate</td>\n",
              "      <td>3</td>\n",
              "      <td>12.9551</td>\n",
              "      <td>77.6593</td>\n",
              "      <td>560017</td>\n",
              "      <td>...</td>\n",
              "      <td>Important</td>\n",
              "      <td>Very Important</td>\n",
              "      <td>Moderately Important</td>\n",
              "      <td>Very Important</td>\n",
              "      <td>Very Important</td>\n",
              "      <td>Important</td>\n",
              "      <td>Very Important</td>\n",
              "      <td>Moderately Important</td>\n",
              "      <td>Yes</td>\n",
              "      <td>Many a times payment gateways are an issue, so...</td>\n",
              "    </tr>\n",
              "    <tr>\n",
              "      <th>3</th>\n",
              "      <td>22</td>\n",
              "      <td>Female</td>\n",
              "      <td>Single</td>\n",
              "      <td>Student</td>\n",
              "      <td>No Income</td>\n",
              "      <td>Graduate</td>\n",
              "      <td>6</td>\n",
              "      <td>12.9473</td>\n",
              "      <td>77.5616</td>\n",
              "      <td>560019</td>\n",
              "      <td>...</td>\n",
              "      <td>Very Important</td>\n",
              "      <td>Important</td>\n",
              "      <td>Moderately Important</td>\n",
              "      <td>Very Important</td>\n",
              "      <td>Very Important</td>\n",
              "      <td>Very Important</td>\n",
              "      <td>Very Important</td>\n",
              "      <td>Important</td>\n",
              "      <td>Yes</td>\n",
              "      <td>nil</td>\n",
              "    </tr>\n",
              "    <tr>\n",
              "      <th>4</th>\n",
              "      <td>22</td>\n",
              "      <td>Male</td>\n",
              "      <td>Single</td>\n",
              "      <td>Student</td>\n",
              "      <td>Below Rs.10000</td>\n",
              "      <td>Post Graduate</td>\n",
              "      <td>4</td>\n",
              "      <td>12.9850</td>\n",
              "      <td>77.5533</td>\n",
              "      <td>560010</td>\n",
              "      <td>...</td>\n",
              "      <td>Important</td>\n",
              "      <td>Important</td>\n",
              "      <td>Moderately Important</td>\n",
              "      <td>Important</td>\n",
              "      <td>Important</td>\n",
              "      <td>Important</td>\n",
              "      <td>Very Important</td>\n",
              "      <td>Very Important</td>\n",
              "      <td>Yes</td>\n",
              "      <td>NIL</td>\n",
              "    </tr>\n",
              "  </tbody>\n",
              "</table>\n",
              "<p>5 rows × 55 columns</p>\n",
              "</div>"
            ],
            "text/plain": [
              "   Age  Gender Marital Status Occupation  Monthly Income  \\\n",
              "0   20  Female         Single    Student       No Income   \n",
              "1   24  Female         Single    Student  Below Rs.10000   \n",
              "2   22    Male         Single    Student  Below Rs.10000   \n",
              "3   22  Female         Single    Student       No Income   \n",
              "4   22    Male         Single    Student  Below Rs.10000   \n",
              "\n",
              "  Educational Qualifications  Family size  latitude  longitude  Pin code  ...  \\\n",
              "0              Post Graduate            4   12.9766    77.5993    560001  ...   \n",
              "1                   Graduate            3   12.9770    77.5773    560009  ...   \n",
              "2              Post Graduate            3   12.9551    77.6593    560017  ...   \n",
              "3                   Graduate            6   12.9473    77.5616    560019  ...   \n",
              "4              Post Graduate            4   12.9850    77.5533    560010  ...   \n",
              "\n",
              "     Less Delivery time High Quality of package       Number of calls  \\\n",
              "0  Moderately Important    Moderately Important  Moderately Important   \n",
              "1        Very Important          Very Important        Very Important   \n",
              "2             Important          Very Important  Moderately Important   \n",
              "3        Very Important               Important  Moderately Important   \n",
              "4             Important               Important  Moderately Important   \n",
              "\n",
              "             Politeness            Freshness            Temperature  \\\n",
              "0  Moderately Important  Moderately Important  Moderately Important   \n",
              "1        Very Important        Very Important        Very Important   \n",
              "2        Very Important        Very Important             Important   \n",
              "3        Very Important        Very Important        Very Important   \n",
              "4             Important             Important             Important   \n",
              "\n",
              "            Good Taste          Good Quantity Output  \\\n",
              "0  Moderately Important  Moderately Important    Yes   \n",
              "1        Very Important        Very Important    Yes   \n",
              "2        Very Important  Moderately Important    Yes   \n",
              "3        Very Important             Important    Yes   \n",
              "4        Very Important        Very Important    Yes   \n",
              "\n",
              "                                             Reviews  \n",
              "0                                              Nil\\n  \n",
              "1                                                Nil  \n",
              "2  Many a times payment gateways are an issue, so...  \n",
              "3                                                nil  \n",
              "4                                                NIL  \n",
              "\n",
              "[5 rows x 55 columns]"
            ]
          },
          "execution_count": 90,
          "metadata": {},
          "output_type": "execute_result"
        }
      ],
      "source": [
        "onlinedeliverydata_data.head()"
      ]
    },
    {
      "cell_type": "code",
      "execution_count": null,
      "metadata": {
        "id": "yD-ZPm_KH-5N",
        "outputId": "1f33b105-85a6-4878-c81f-8278c9dc922f"
      },
      "outputs": [
        {
          "name": "stdout",
          "output_type": "stream",
          "text": [
            "Age                24.650350\n",
            "Family size         3.272727\n",
            "latitude           12.972996\n",
            "longitude          77.597023\n",
            "Pin code       560036.793706\n",
            "dtype: float64\n"
          ]
        }
      ],
      "source": [
        "mean = onlinedeliverydata_data[[\"Age\",\"Family size\",\"latitude\",\"longitude\",\"Pin code\"]].mean()\n",
        "print(mean)"
      ]
    },
    {
      "cell_type": "code",
      "execution_count": null,
      "metadata": {
        "id": "bE8ALE4iH-5P",
        "outputId": "b3dfafa5-397a-48f9-efc3-c8e5b93c899a"
      },
      "outputs": [
        {
          "data": {
            "text/plain": [
              "Age                24.0000\n",
              "Family size         3.0000\n",
              "latitude           12.9770\n",
              "longitude          77.5864\n",
              "Pin code       560027.0000\n",
              "dtype: float64"
            ]
          },
          "execution_count": 92,
          "metadata": {},
          "output_type": "execute_result"
        }
      ],
      "source": [
        "onlinedeliverydata_data[[\"Age\",\"Family size\",\"latitude\",\"longitude\",\"Pin code\"]].median()"
      ]
    },
    {
      "cell_type": "code",
      "execution_count": null,
      "metadata": {
        "id": "IckKMFVEH-5S",
        "outputId": "7f146d14-73f5-44b6-8d27-d30919be0083"
      },
      "outputs": [
        {
          "data": {
            "text/plain": [
              "Age            0.780783\n",
              "Family size    0.424639\n",
              "latitude       0.215602\n",
              "longitude      0.977520\n",
              "Pin code       0.739120\n",
              "dtype: float64"
            ]
          },
          "execution_count": 93,
          "metadata": {},
          "output_type": "execute_result"
        }
      ],
      "source": [
        "onlinedeliverydata_data[[\"Age\",\"Family size\",\"latitude\",\"longitude\",\"Pin code\"]].skew()"
      ]
    },
    {
      "cell_type": "code",
      "execution_count": null,
      "metadata": {
        "id": "EoVDabvlH-5U",
        "outputId": "349e353a-a8e5-44d3-9d97-23b0b2a1d0e2"
      },
      "outputs": [
        {
          "data": {
            "text/html": [
              "<div>\n",
              "<style scoped>\n",
              "    .dataframe tbody tr th:only-of-type {\n",
              "        vertical-align: middle;\n",
              "    }\n",
              "\n",
              "    .dataframe tbody tr th {\n",
              "        vertical-align: top;\n",
              "    }\n",
              "\n",
              "    .dataframe thead th {\n",
              "        text-align: right;\n",
              "    }\n",
              "</style>\n",
              "<table border=\"1\" class=\"dataframe\">\n",
              "  <thead>\n",
              "    <tr style=\"text-align: right;\">\n",
              "      <th></th>\n",
              "      <th>Age</th>\n",
              "      <th>Gender</th>\n",
              "      <th>Marital Status</th>\n",
              "      <th>Occupation</th>\n",
              "      <th>Monthly Income</th>\n",
              "      <th>Educational Qualifications</th>\n",
              "      <th>Family size</th>\n",
              "      <th>latitude</th>\n",
              "      <th>longitude</th>\n",
              "      <th>Pin code</th>\n",
              "      <th>...</th>\n",
              "      <th>Less Delivery time</th>\n",
              "      <th>High Quality of package</th>\n",
              "      <th>Number of calls</th>\n",
              "      <th>Politeness</th>\n",
              "      <th>Freshness</th>\n",
              "      <th>Temperature</th>\n",
              "      <th>Good Taste</th>\n",
              "      <th>Good Quantity</th>\n",
              "      <th>Output</th>\n",
              "      <th>Reviews</th>\n",
              "    </tr>\n",
              "  </thead>\n",
              "  <tbody>\n",
              "    <tr>\n",
              "      <th>0</th>\n",
              "      <td>23</td>\n",
              "      <td>Male</td>\n",
              "      <td>Single</td>\n",
              "      <td>Student</td>\n",
              "      <td>No Income</td>\n",
              "      <td>Post Graduate</td>\n",
              "      <td>3</td>\n",
              "      <td>12.977</td>\n",
              "      <td>77.5773</td>\n",
              "      <td>560009</td>\n",
              "      <td>...</td>\n",
              "      <td>Important</td>\n",
              "      <td>Important</td>\n",
              "      <td>Important</td>\n",
              "      <td>Important</td>\n",
              "      <td>Very Important</td>\n",
              "      <td>Important</td>\n",
              "      <td>Very Important</td>\n",
              "      <td>Very Important</td>\n",
              "      <td>Yes</td>\n",
              "      <td>NIL</td>\n",
              "    </tr>\n",
              "  </tbody>\n",
              "</table>\n",
              "<p>1 rows × 55 columns</p>\n",
              "</div>"
            ],
            "text/plain": [
              "   Age Gender Marital Status Occupation Monthly Income  \\\n",
              "0   23   Male         Single    Student      No Income   \n",
              "\n",
              "  Educational Qualifications  Family size  latitude  longitude  Pin code  ...  \\\n",
              "0              Post Graduate            3    12.977    77.5773    560009  ...   \n",
              "\n",
              "  Less Delivery time High Quality of package Number of calls Politeness  \\\n",
              "0          Important               Important       Important  Important   \n",
              "\n",
              "       Freshness  Temperature     Good Taste    Good Quantity Output Reviews  \n",
              "0  Very Important   Important  Very Important  Very Important    Yes     NIL  \n",
              "\n",
              "[1 rows x 55 columns]"
            ]
          },
          "execution_count": 94,
          "metadata": {},
          "output_type": "execute_result"
        }
      ],
      "source": [
        "onlinedeliverydata_data.mode()"
      ]
    },
    {
      "cell_type": "code",
      "execution_count": null,
      "metadata": {
        "id": "jRyo5HpVH-5V",
        "outputId": "f4fd3087-ff37-460a-d77c-32e397d8f343"
      },
      "outputs": [
        {
          "name": "stdout",
          "output_type": "stream",
          "text": [
            "15\n",
            "5\n",
            "0.23680000000000057\n",
            "0.2740000000000009\n",
            "108\n"
          ]
        }
      ],
      "source": [
        "print(max(onlinedeliverydata_data['Age']) - min(onlinedeliverydata_data[\"Age\"]))\n",
        "print(max(onlinedeliverydata_data['Family size']) - min(onlinedeliverydata_data[\"Family size\"]))\n",
        "print(max(onlinedeliverydata_data['latitude']) - min(onlinedeliverydata_data[\"latitude\"]))\n",
        "print(max(onlinedeliverydata_data['longitude']) - min(onlinedeliverydata_data[\"longitude\"]))\n",
        "print(max(onlinedeliverydata_data['Pin code']) - min(onlinedeliverydata_data[\"Pin code\"]))"
      ]
    },
    {
      "cell_type": "code",
      "execution_count": null,
      "metadata": {
        "id": "BzcfAggPH-5X",
        "outputId": "387e1bb7-f97b-414e-b7fc-0e8bb56a6cf8"
      },
      "outputs": [
        {
          "data": {
            "text/plain": [
              "[18.0, 23.0, 24.0, 26.0, 33.0]"
            ]
          },
          "execution_count": 96,
          "metadata": {},
          "output_type": "execute_result"
        }
      ],
      "source": [
        "five_num_age = [onlinedeliverydata_data[\"Age\"].quantile(0),\n",
        "            onlinedeliverydata_data[\"Age\"].quantile(0.25),\n",
        "            onlinedeliverydata_data[\"Age\"].quantile(0.50),\n",
        "            onlinedeliverydata_data[\"Age\"].quantile(0.75),\n",
        "            onlinedeliverydata_data[\"Age\"].quantile(1)]\n",
        "\n",
        "five_num_age"
      ]
    },
    {
      "cell_type": "code",
      "execution_count": null,
      "metadata": {
        "id": "qbDOOHxDH-5b",
        "outputId": "d83240b7-e289-4221-ac40-33d1f5acf23c"
      },
      "outputs": [
        {
          "data": {
            "text/plain": [
              "[1.0, 2.0, 3.0, 4.0, 6.0]"
            ]
          },
          "execution_count": 97,
          "metadata": {},
          "output_type": "execute_result"
        }
      ],
      "source": [
        "five_num_Familysize = [onlinedeliverydata_data[\"Family size\"].quantile(0),\n",
        "            onlinedeliverydata_data[\"Family size\"].quantile(0.25),\n",
        "            onlinedeliverydata_data[\"Family size\"].quantile(0.50),\n",
        "            onlinedeliverydata_data[\"Family size\"].quantile(0.75),\n",
        "            onlinedeliverydata_data[\"Family size\"].quantile(1)]\n",
        "\n",
        "five_num_Familysize"
      ]
    },
    {
      "cell_type": "code",
      "execution_count": null,
      "metadata": {
        "id": "SMRfdcHLH-5d",
        "outputId": "c9a9d5f9-fbc5-43dc-c49c-5df3a282afb7"
      },
      "outputs": [
        {
          "data": {
            "text/plain": [
              "[12.8652, 12.9438, 12.977, 12.997675, 13.102]"
            ]
          },
          "execution_count": 98,
          "metadata": {},
          "output_type": "execute_result"
        }
      ],
      "source": [
        "five_num_latitude = [onlinedeliverydata_data[\"latitude\"].quantile(0),\n",
        "            onlinedeliverydata_data[\"latitude\"].quantile(0.25),\n",
        "            onlinedeliverydata_data[\"latitude\"].quantile(0.50),\n",
        "            onlinedeliverydata_data[\"latitude\"].quantile(0.75),\n",
        "            onlinedeliverydata_data[\"latitude\"].quantile(1)]\n",
        "\n",
        "five_num_latitude"
      ]
    },
    {
      "cell_type": "code",
      "execution_count": null,
      "metadata": {
        "id": "w5bidlz5H-5g",
        "outputId": "ed3a89eb-1471-4043-81f4-2065a94293c7"
      },
      "outputs": [
        {
          "data": {
            "text/plain": [
              "[77.4842, 77.56335, 77.5864, 77.6227, 77.7582]"
            ]
          },
          "execution_count": 99,
          "metadata": {},
          "output_type": "execute_result"
        }
      ],
      "source": [
        "five_num_longitude = [onlinedeliverydata_data[\"longitude\"].quantile(0),\n",
        "            onlinedeliverydata_data[\"longitude\"].quantile(0.25),\n",
        "            onlinedeliverydata_data[\"longitude\"].quantile(0.50),\n",
        "            onlinedeliverydata_data[\"longitude\"].quantile(0.75),\n",
        "            onlinedeliverydata_data[\"longitude\"].quantile(1)]\n",
        "\n",
        "five_num_longitude"
      ]
    },
    {
      "cell_type": "code",
      "execution_count": null,
      "metadata": {
        "id": "Ri7L0EFGH-5i",
        "outputId": "c847d749-effa-476e-b5e7-755a00ec7195"
      },
      "outputs": [
        {
          "data": {
            "text/plain": [
              "[560001.0, 560010.0, 560027.0, 560065.5, 560109.0]"
            ]
          },
          "execution_count": 100,
          "metadata": {},
          "output_type": "execute_result"
        }
      ],
      "source": [
        "five_num_Pin_code = [onlinedeliverydata_data[\"Pin code\"].quantile(0),\n",
        "            onlinedeliverydata_data[\"Pin code\"].quantile(0.25),\n",
        "            onlinedeliverydata_data[\"Pin code\"].quantile(0.50),\n",
        "            onlinedeliverydata_data[\"Pin code\"].quantile(0.75),\n",
        "            onlinedeliverydata_data[\"Pin code\"].quantile(1)]\n",
        "\n",
        "five_num_Pin_code"
      ]
    },
    {
      "cell_type": "code",
      "execution_count": null,
      "metadata": {
        "id": "W6ldFlSzH-5j",
        "outputId": "04502fad-813b-45e0-ca60-3ddc01d04156"
      },
      "outputs": [
        {
          "data": {
            "text/html": [
              "<div>\n",
              "<style scoped>\n",
              "    .dataframe tbody tr th:only-of-type {\n",
              "        vertical-align: middle;\n",
              "    }\n",
              "\n",
              "    .dataframe tbody tr th {\n",
              "        vertical-align: top;\n",
              "    }\n",
              "\n",
              "    .dataframe thead th {\n",
              "        text-align: right;\n",
              "    }\n",
              "</style>\n",
              "<table border=\"1\" class=\"dataframe\">\n",
              "  <thead>\n",
              "    <tr style=\"text-align: right;\">\n",
              "      <th></th>\n",
              "      <th>Age</th>\n",
              "      <th>Family size</th>\n",
              "      <th>latitude</th>\n",
              "      <th>longitude</th>\n",
              "      <th>Pin code</th>\n",
              "    </tr>\n",
              "  </thead>\n",
              "  <tbody>\n",
              "    <tr>\n",
              "      <th>count</th>\n",
              "      <td>286.00000</td>\n",
              "      <td>286.000000</td>\n",
              "      <td>286.000000</td>\n",
              "      <td>286.000000</td>\n",
              "      <td>286.000000</td>\n",
              "    </tr>\n",
              "    <tr>\n",
              "      <th>mean</th>\n",
              "      <td>24.65035</td>\n",
              "      <td>3.272727</td>\n",
              "      <td>12.972996</td>\n",
              "      <td>77.597023</td>\n",
              "      <td>560036.793706</td>\n",
              "    </tr>\n",
              "    <tr>\n",
              "      <th>std</th>\n",
              "      <td>3.01635</td>\n",
              "      <td>1.354301</td>\n",
              "      <td>0.043646</td>\n",
              "      <td>0.053517</td>\n",
              "      <td>30.778486</td>\n",
              "    </tr>\n",
              "    <tr>\n",
              "      <th>min</th>\n",
              "      <td>18.00000</td>\n",
              "      <td>1.000000</td>\n",
              "      <td>12.865200</td>\n",
              "      <td>77.484200</td>\n",
              "      <td>560001.000000</td>\n",
              "    </tr>\n",
              "    <tr>\n",
              "      <th>25%</th>\n",
              "      <td>23.00000</td>\n",
              "      <td>2.000000</td>\n",
              "      <td>12.943800</td>\n",
              "      <td>77.563350</td>\n",
              "      <td>560010.000000</td>\n",
              "    </tr>\n",
              "    <tr>\n",
              "      <th>50%</th>\n",
              "      <td>24.00000</td>\n",
              "      <td>3.000000</td>\n",
              "      <td>12.977000</td>\n",
              "      <td>77.586400</td>\n",
              "      <td>560027.000000</td>\n",
              "    </tr>\n",
              "    <tr>\n",
              "      <th>75%</th>\n",
              "      <td>26.00000</td>\n",
              "      <td>4.000000</td>\n",
              "      <td>12.997675</td>\n",
              "      <td>77.622700</td>\n",
              "      <td>560065.500000</td>\n",
              "    </tr>\n",
              "    <tr>\n",
              "      <th>max</th>\n",
              "      <td>33.00000</td>\n",
              "      <td>6.000000</td>\n",
              "      <td>13.102000</td>\n",
              "      <td>77.758200</td>\n",
              "      <td>560109.000000</td>\n",
              "    </tr>\n",
              "  </tbody>\n",
              "</table>\n",
              "</div>"
            ],
            "text/plain": [
              "             Age  Family size    latitude   longitude       Pin code\n",
              "count  286.00000   286.000000  286.000000  286.000000     286.000000\n",
              "mean    24.65035     3.272727   12.972996   77.597023  560036.793706\n",
              "std      3.01635     1.354301    0.043646    0.053517      30.778486\n",
              "min     18.00000     1.000000   12.865200   77.484200  560001.000000\n",
              "25%     23.00000     2.000000   12.943800   77.563350  560010.000000\n",
              "50%     24.00000     3.000000   12.977000   77.586400  560027.000000\n",
              "75%     26.00000     4.000000   12.997675   77.622700  560065.500000\n",
              "max     33.00000     6.000000   13.102000   77.758200  560109.000000"
            ]
          },
          "execution_count": 101,
          "metadata": {},
          "output_type": "execute_result"
        }
      ],
      "source": [
        "onlinedeliverydata_data.describe()"
      ]
    },
    {
      "cell_type": "code",
      "execution_count": null,
      "metadata": {
        "id": "pfYNWjBEH-5j",
        "outputId": "d22d5fe6-ea9b-4b78-e934-ce254591ee9c"
      },
      "outputs": [
        {
          "data": {
            "text/plain": [
              "Age              9.098368\n",
              "Family size      1.834131\n",
              "latitude         0.001905\n",
              "longitude        0.002864\n",
              "Pin code       947.315188\n",
              "dtype: float64"
            ]
          },
          "execution_count": 102,
          "metadata": {},
          "output_type": "execute_result"
        }
      ],
      "source": [
        "onlinedeliverydata_data[[\"Age\",\"Family size\",\"latitude\",\"longitude\",\"Pin code\"]].var()"
      ]
    },
    {
      "cell_type": "code",
      "execution_count": null,
      "metadata": {
        "id": "dXvMGiqIH-5k",
        "outputId": "702b956b-5302-4a8c-f5cb-ed02e4306c7d"
      },
      "outputs": [
        {
          "name": "stdout",
          "output_type": "stream",
          "text": [
            "Age             3.016350\n",
            "Family size     1.354301\n",
            "latitude        0.043646\n",
            "longitude       0.053517\n",
            "Pin code       30.778486\n",
            "dtype: float64\n"
          ]
        }
      ],
      "source": [
        "Std = onlinedeliverydata_data[[\"Age\",\"Family size\",\"latitude\",\"longitude\",\"Pin code\"]].std()\n",
        "print(Std)"
      ]
    },
    {
      "cell_type": "code",
      "execution_count": null,
      "metadata": {
        "id": "ye-MwqvRH-5m",
        "outputId": "6e13ea30-33d0-4587-b9c1-48e08bbc89c4"
      },
      "outputs": [
        {
          "name": "stdout",
          "output_type": "stream",
          "text": [
            "Age            12.236541\n",
            "Family size    41.381415\n",
            "latitude        0.336439\n",
            "longitude       0.068968\n",
            "Pin code        0.005496\n",
            "dtype: float64\n"
          ]
        }
      ],
      "source": [
        "CV = (Std / mean) * 100\n",
        "print(CV)"
      ]
    },
    {
      "cell_type": "code",
      "execution_count": null,
      "metadata": {
        "id": "E6FKCDzNH-5n",
        "outputId": "351b4067-0103-4e32-d305-7594740d49e3"
      },
      "outputs": [
        {
          "data": {
            "text/html": [
              "<div>\n",
              "<style scoped>\n",
              "    .dataframe tbody tr th:only-of-type {\n",
              "        vertical-align: middle;\n",
              "    }\n",
              "\n",
              "    .dataframe tbody tr th {\n",
              "        vertical-align: top;\n",
              "    }\n",
              "\n",
              "    .dataframe thead th {\n",
              "        text-align: right;\n",
              "    }\n",
              "</style>\n",
              "<table border=\"1\" class=\"dataframe\">\n",
              "  <thead>\n",
              "    <tr style=\"text-align: right;\">\n",
              "      <th></th>\n",
              "      <th>Age</th>\n",
              "      <th>Family size</th>\n",
              "      <th>latitude</th>\n",
              "      <th>longitude</th>\n",
              "      <th>Pin code</th>\n",
              "    </tr>\n",
              "  </thead>\n",
              "  <tbody>\n",
              "    <tr>\n",
              "      <th>Age</th>\n",
              "      <td>1.000000</td>\n",
              "      <td>0.196929</td>\n",
              "      <td>0.065278</td>\n",
              "      <td>0.034115</td>\n",
              "      <td>0.064264</td>\n",
              "    </tr>\n",
              "    <tr>\n",
              "      <th>Family size</th>\n",
              "      <td>0.196929</td>\n",
              "      <td>1.000000</td>\n",
              "      <td>-0.044014</td>\n",
              "      <td>0.055223</td>\n",
              "      <td>0.020884</td>\n",
              "    </tr>\n",
              "    <tr>\n",
              "      <th>latitude</th>\n",
              "      <td>0.065278</td>\n",
              "      <td>-0.044014</td>\n",
              "      <td>1.000000</td>\n",
              "      <td>-0.147579</td>\n",
              "      <td>-0.254707</td>\n",
              "    </tr>\n",
              "    <tr>\n",
              "      <th>longitude</th>\n",
              "      <td>0.034115</td>\n",
              "      <td>0.055223</td>\n",
              "      <td>-0.147579</td>\n",
              "      <td>1.000000</td>\n",
              "      <td>0.140533</td>\n",
              "    </tr>\n",
              "    <tr>\n",
              "      <th>Pin code</th>\n",
              "      <td>0.064264</td>\n",
              "      <td>0.020884</td>\n",
              "      <td>-0.254707</td>\n",
              "      <td>0.140533</td>\n",
              "      <td>1.000000</td>\n",
              "    </tr>\n",
              "  </tbody>\n",
              "</table>\n",
              "</div>"
            ],
            "text/plain": [
              "                  Age  Family size  latitude  longitude  Pin code\n",
              "Age          1.000000     0.196929  0.065278   0.034115  0.064264\n",
              "Family size  0.196929     1.000000 -0.044014   0.055223  0.020884\n",
              "latitude     0.065278    -0.044014  1.000000  -0.147579 -0.254707\n",
              "longitude    0.034115     0.055223 -0.147579   1.000000  0.140533\n",
              "Pin code     0.064264     0.020884 -0.254707   0.140533  1.000000"
            ]
          },
          "execution_count": 104,
          "metadata": {},
          "output_type": "execute_result"
        }
      ],
      "source": [
        "onlinedeliverydata_data.corr()"
      ]
    },
    {
      "cell_type": "code",
      "execution_count": null,
      "metadata": {
        "id": "H6e_SzIsH-5n",
        "outputId": "d443fcf9-6272-43f1-bd08-38fc5b139562"
      },
      "outputs": [
        {
          "data": {
            "text/html": [
              "<div>\n",
              "<style scoped>\n",
              "    .dataframe tbody tr th:only-of-type {\n",
              "        vertical-align: middle;\n",
              "    }\n",
              "\n",
              "    .dataframe tbody tr th {\n",
              "        vertical-align: top;\n",
              "    }\n",
              "\n",
              "    .dataframe thead th {\n",
              "        text-align: right;\n",
              "    }\n",
              "</style>\n",
              "<table border=\"1\" class=\"dataframe\">\n",
              "  <thead>\n",
              "    <tr style=\"text-align: right;\">\n",
              "      <th></th>\n",
              "      <th>Age</th>\n",
              "      <th>Family size</th>\n",
              "      <th>latitude</th>\n",
              "      <th>longitude</th>\n",
              "      <th>Pin code</th>\n",
              "    </tr>\n",
              "  </thead>\n",
              "  <tbody>\n",
              "    <tr>\n",
              "      <th>Age</th>\n",
              "      <td>9.098368</td>\n",
              "      <td>0.804466</td>\n",
              "      <td>0.008594</td>\n",
              "      <td>0.005507</td>\n",
              "      <td>5.966213</td>\n",
              "    </tr>\n",
              "    <tr>\n",
              "      <th>Family size</th>\n",
              "      <td>0.804466</td>\n",
              "      <td>1.834131</td>\n",
              "      <td>-0.002602</td>\n",
              "      <td>0.004002</td>\n",
              "      <td>0.870494</td>\n",
              "    </tr>\n",
              "    <tr>\n",
              "      <th>latitude</th>\n",
              "      <td>0.008594</td>\n",
              "      <td>-0.002602</td>\n",
              "      <td>0.001905</td>\n",
              "      <td>-0.000345</td>\n",
              "      <td>-0.342165</td>\n",
              "    </tr>\n",
              "    <tr>\n",
              "      <th>longitude</th>\n",
              "      <td>0.005507</td>\n",
              "      <td>0.004002</td>\n",
              "      <td>-0.000345</td>\n",
              "      <td>0.002864</td>\n",
              "      <td>0.231483</td>\n",
              "    </tr>\n",
              "    <tr>\n",
              "      <th>Pin code</th>\n",
              "      <td>5.966213</td>\n",
              "      <td>0.870494</td>\n",
              "      <td>-0.342165</td>\n",
              "      <td>0.231483</td>\n",
              "      <td>947.315188</td>\n",
              "    </tr>\n",
              "  </tbody>\n",
              "</table>\n",
              "</div>"
            ],
            "text/plain": [
              "                  Age  Family size  latitude  longitude    Pin code\n",
              "Age          9.098368     0.804466  0.008594   0.005507    5.966213\n",
              "Family size  0.804466     1.834131 -0.002602   0.004002    0.870494\n",
              "latitude     0.008594    -0.002602  0.001905  -0.000345   -0.342165\n",
              "longitude    0.005507     0.004002 -0.000345   0.002864    0.231483\n",
              "Pin code     5.966213     0.870494 -0.342165   0.231483  947.315188"
            ]
          },
          "execution_count": 116,
          "metadata": {},
          "output_type": "execute_result"
        }
      ],
      "source": [
        "onlinedeliverydata_data.cov()"
      ]
    },
    {
      "cell_type": "code",
      "execution_count": null,
      "metadata": {
        "id": "tFUmofTTH-5p"
      },
      "outputs": [],
      "source": []
    }
  ],
  "metadata": {
    "kernelspec": {
      "display_name": "Python 3",
      "language": "python",
      "name": "python3"
    },
    "language_info": {
      "codemirror_mode": {
        "name": "ipython",
        "version": 3
      },
      "file_extension": ".py",
      "mimetype": "text/x-python",
      "name": "python",
      "nbconvert_exporter": "python",
      "pygments_lexer": "ipython3",
      "version": "3.8.5"
    },
    "colab": {
      "provenance": []
    }
  },
  "nbformat": 4,
  "nbformat_minor": 0
}