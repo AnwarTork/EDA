{
  "nbformat": 4,
  "nbformat_minor": 0,
  "metadata": {
    "colab": {
      "provenance": []
    },
    "kernelspec": {
      "name": "python3",
      "display_name": "Python 3"
    },
    "language_info": {
      "name": "python"
    }
  },
  "cells": [
    {
      "cell_type": "code",
      "execution_count": 4,
      "metadata": {
        "id": "R38jphyr8LoV"
      },
      "outputs": [],
      "source": [
        "X = [8,2,10,4,6,15,4,6,4,1,20,25,16]\n",
        "Y = [19,3,5,9,5,1,16,5,3,7,15,18,19]"
      ]
    },
    {
      "cell_type": "code",
      "source": [
        "def mean(n,data):\n",
        "    result = sum(data)/n\n",
        "    print(result)\n"
      ],
      "metadata": {
        "id": "N8F7mKg08opM"
      },
      "execution_count": 5,
      "outputs": []
    },
    {
      "cell_type": "code",
      "source": [
        "mean(13,X)"
      ],
      "metadata": {
        "colab": {
          "base_uri": "https://localhost:8080/"
        },
        "id": "PUJ80gFM9lXd",
        "outputId": "921a3e47-76a7-4cb6-a4db-08038757e1ee"
      },
      "execution_count": 6,
      "outputs": [
        {
          "output_type": "stream",
          "name": "stdout",
          "text": [
            "9.307692307692308\n"
          ]
        }
      ]
    },
    {
      "cell_type": "code",
      "source": [
        "mean(13,Y)"
      ],
      "metadata": {
        "colab": {
          "base_uri": "https://localhost:8080/"
        },
        "id": "Pnxr486-9o90",
        "outputId": "6329efc5-43a5-44ba-9c80-1a3425d4e2ce"
      },
      "execution_count": 7,
      "outputs": [
        {
          "output_type": "stream",
          "name": "stdout",
          "text": [
            "9.615384615384615\n"
          ]
        }
      ]
    },
    {
      "cell_type": "code",
      "source": [
        "def my_mean(data):\n",
        "    return sum(data) / len(data)"
      ],
      "metadata": {
        "id": "qNGt1sNcAIF-"
      },
      "execution_count": 8,
      "outputs": []
    },
    {
      "cell_type": "code",
      "source": [
        "my_mean(X)"
      ],
      "metadata": {
        "colab": {
          "base_uri": "https://localhost:8080/"
        },
        "id": "p2s1DpgDARbg",
        "outputId": "b6bc325f-fd1b-4647-a1eb-3ae1ed80961a"
      },
      "execution_count": 9,
      "outputs": [
        {
          "output_type": "execute_result",
          "data": {
            "text/plain": [
              "9.307692307692308"
            ]
          },
          "metadata": {},
          "execution_count": 9
        }
      ]
    },
    {
      "cell_type": "code",
      "source": [
        "my_mean(Y)"
      ],
      "metadata": {
        "colab": {
          "base_uri": "https://localhost:8080/"
        },
        "id": "hs63NnpcARjC",
        "outputId": "c14a12fb-12d7-440d-9c37-674ee15f5fef"
      },
      "execution_count": 10,
      "outputs": [
        {
          "output_type": "execute_result",
          "data": {
            "text/plain": [
              "9.615384615384615"
            ]
          },
          "metadata": {},
          "execution_count": 10
        }
      ]
    },
    {
      "cell_type": "code",
      "source": [
        "# import statistics\n",
        "# def median_func(x):\n",
        "#   print(\"Median of data-set is : % s \"% (statistics.median(x)))\n"
      ],
      "metadata": {
        "id": "TXmGmPBU94EJ"
      },
      "execution_count": 11,
      "outputs": []
    },
    {
      "cell_type": "code",
      "source": [
        "#  median_func(X)"
      ],
      "metadata": {
        "id": "vtv8bkHn-sed"
      },
      "execution_count": 12,
      "outputs": []
    },
    {
      "cell_type": "code",
      "source": [
        "#  median_func(Y)"
      ],
      "metadata": {
        "id": "Ayx4xXNF-93C"
      },
      "execution_count": 13,
      "outputs": []
    },
    {
      "cell_type": "code",
      "source": [
        "def median(data):\n",
        "    sorted_data = sorted(data)\n",
        "    data_len = len(sorted_data)\n",
        "    middle = (data_len - 1) // 2\n",
        "    if middle % 2:\n",
        "        return sorted_data[middle]\n",
        "    else:\n",
        "        return (sorted_data[middle] + sorted_data[middle + 1]) / 2.0"
      ],
      "metadata": {
        "id": "Yotg_buW_HFP"
      },
      "execution_count": 14,
      "outputs": []
    },
    {
      "cell_type": "code",
      "source": [
        "median(X)"
      ],
      "metadata": {
        "colab": {
          "base_uri": "https://localhost:8080/"
        },
        "id": "v1rECfx3_W93",
        "outputId": "d576d458-4bf3-4ac3-da3a-c300cfcba9e3"
      },
      "execution_count": 15,
      "outputs": [
        {
          "output_type": "execute_result",
          "data": {
            "text/plain": [
              "7.0"
            ]
          },
          "metadata": {},
          "execution_count": 15
        }
      ]
    },
    {
      "cell_type": "code",
      "source": [
        "median(Y)"
      ],
      "metadata": {
        "colab": {
          "base_uri": "https://localhost:8080/"
        },
        "id": "xMH70tS-_Z1v",
        "outputId": "91f06c60-bef6-4b47-c5f7-fdc4bd8073fc"
      },
      "execution_count": 16,
      "outputs": [
        {
          "output_type": "execute_result",
          "data": {
            "text/plain": [
              "8.0"
            ]
          },
          "metadata": {},
          "execution_count": 16
        }
      ]
    },
    {
      "cell_type": "code",
      "source": [
        "from collections import Counter\n",
        "def my_mode(sample):\n",
        "      c = Counter(sample)\n",
        "      return [k for k, v in c.items() if v == c.most_common(1)[0][1]]"
      ],
      "metadata": {
        "id": "H2sEm2xq_csn"
      },
      "execution_count": 17,
      "outputs": []
    },
    {
      "cell_type": "code",
      "source": [
        "my_mode(X)"
      ],
      "metadata": {
        "colab": {
          "base_uri": "https://localhost:8080/"
        },
        "id": "kmbNcof4AnXY",
        "outputId": "922fc9e9-6d0e-4556-c2b2-328481e92776"
      },
      "execution_count": 18,
      "outputs": [
        {
          "output_type": "execute_result",
          "data": {
            "text/plain": [
              "[4]"
            ]
          },
          "metadata": {},
          "execution_count": 18
        }
      ]
    },
    {
      "cell_type": "code",
      "source": [
        "my_mode(Y)"
      ],
      "metadata": {
        "colab": {
          "base_uri": "https://localhost:8080/"
        },
        "id": "Kqz1dfFpApdq",
        "outputId": "6d5de8e3-9369-44ae-eeaa-2441f3f4a213"
      },
      "execution_count": 19,
      "outputs": [
        {
          "output_type": "execute_result",
          "data": {
            "text/plain": [
              "[5]"
            ]
          },
          "metadata": {},
          "execution_count": 19
        }
      ]
    },
    {
      "cell_type": "code",
      "source": [
        "import statistics\n",
        "\n",
        "statistics.mode(X)"
      ],
      "metadata": {
        "colab": {
          "base_uri": "https://localhost:8080/"
        },
        "id": "cV50aYsRArdj",
        "outputId": "a5417de0-8d76-4b33-a2c5-06653e4a6389"
      },
      "execution_count": 20,
      "outputs": [
        {
          "output_type": "execute_result",
          "data": {
            "text/plain": [
              "4"
            ]
          },
          "metadata": {},
          "execution_count": 20
        }
      ]
    },
    {
      "cell_type": "code",
      "source": [
        "import statistics\n",
        "statistics.mode(Y)"
      ],
      "metadata": {
        "colab": {
          "base_uri": "https://localhost:8080/"
        },
        "id": "7Mh62Q3oA0dF",
        "outputId": "d6394e6f-9119-4617-9f90-49f4e6256a11"
      },
      "execution_count": 21,
      "outputs": [
        {
          "output_type": "execute_result",
          "data": {
            "text/plain": [
              "5"
            ]
          },
          "metadata": {},
          "execution_count": 21
        }
      ]
    },
    {
      "cell_type": "code",
      "source": [
        "def calculate_variance(data, is_sample = False):\n",
        "  #calculate the mean\n",
        "  mean = (sum(data) / len(data))\n",
        "  diff = [(v - mean) for v in data]\n",
        "  sqr_diff = [d**2 for d in diff]\n",
        "  sum_sqr_diff = sum(sqr_diff)\n",
        "  #calculate variance\n",
        "  if is_sample == True:\n",
        "    variance = sum_sqr_diff/(len(data) - 1)\n",
        "  else:\n",
        "    variance = sum_sqr_diff/(len(data))\n",
        "  \n",
        "  return variance"
      ],
      "metadata": {
        "id": "ZqcqKOmkBJfj"
      },
      "execution_count": 22,
      "outputs": []
    },
    {
      "cell_type": "code",
      "source": [
        "def get_std_dev(data):\n",
        "    n = len(data)\n",
        "    mean = sum(data) / n\n",
        "    var = sum((x - mean)**2 for x in data) / n\n",
        "    std_dev = var ** 0.5\n",
        "    return std_dev"
      ],
      "metadata": {
        "id": "t5SBbHL9CnBW"
      },
      "execution_count": 23,
      "outputs": []
    },
    {
      "cell_type": "code",
      "source": [
        "def pearson_skewness(data):\n",
        "  result = 3 * (my_mean(data)-median(data)) /get_std_dev(data)\n",
        "  print(result)"
      ],
      "metadata": {
        "id": "5A3HLnAODiu-"
      },
      "execution_count": 24,
      "outputs": []
    },
    {
      "cell_type": "code",
      "source": [
        "pearson_skewness(X)"
      ],
      "metadata": {
        "colab": {
          "base_uri": "https://localhost:8080/"
        },
        "id": "rB3_oAqqEJEZ",
        "outputId": "93f135f4-23a5-47a2-f64f-fc81b3ee44aa"
      },
      "execution_count": 25,
      "outputs": [
        {
          "output_type": "stream",
          "name": "stdout",
          "text": [
            "0.9652341781316807\n"
          ]
        }
      ]
    },
    {
      "cell_type": "code",
      "source": [
        "pearson_skewness(Y)"
      ],
      "metadata": {
        "colab": {
          "base_uri": "https://localhost:8080/"
        },
        "id": "0AJ6dm8tELYx",
        "outputId": "c605adb2-cfb2-41c6-f364-322117315a42"
      },
      "execution_count": 26,
      "outputs": [
        {
          "output_type": "stream",
          "name": "stdout",
          "text": [
            "0.7456796268586261\n"
          ]
        }
      ]
    },
    {
      "cell_type": "code",
      "source": [
        "calculate_variance(X,True)"
      ],
      "metadata": {
        "colab": {
          "base_uri": "https://localhost:8080/"
        },
        "id": "0XgvbDieE6Xl",
        "outputId": "168349d9-41f5-421f-b227-2070f549f23f"
      },
      "execution_count": 27,
      "outputs": [
        {
          "output_type": "execute_result",
          "data": {
            "text/plain": [
              "55.730769230769226"
            ]
          },
          "metadata": {},
          "execution_count": 27
        }
      ]
    },
    {
      "cell_type": "code",
      "source": [
        "calculate_variance(Y,True)"
      ],
      "metadata": {
        "colab": {
          "base_uri": "https://localhost:8080/"
        },
        "id": "15ue2eeOFILF",
        "outputId": "fe4111cc-1d26-4fac-df0e-5533eb7a0f89"
      },
      "execution_count": 28,
      "outputs": [
        {
          "output_type": "execute_result",
          "data": {
            "text/plain": [
              "45.756410256410255"
            ]
          },
          "metadata": {},
          "execution_count": 28
        }
      ]
    },
    {
      "cell_type": "code",
      "source": [],
      "metadata": {
        "id": "H64JOsxsFPFl"
      },
      "execution_count": 28,
      "outputs": []
    },
    {
      "cell_type": "code",
      "source": [
        "get_std_dev(X)"
      ],
      "metadata": {
        "colab": {
          "base_uri": "https://localhost:8080/"
        },
        "id": "s-R4m0H7FTBf",
        "outputId": "789a61ab-d1e9-497d-db7e-dd76f4719d06"
      },
      "execution_count": 29,
      "outputs": [
        {
          "output_type": "execute_result",
          "data": {
            "text/plain": [
              "7.172432431347716"
            ]
          },
          "metadata": {},
          "execution_count": 29
        }
      ]
    },
    {
      "cell_type": "code",
      "source": [
        "get_std_dev(Y)"
      ],
      "metadata": {
        "colab": {
          "base_uri": "https://localhost:8080/"
        },
        "id": "M9Ub664hFckw",
        "outputId": "570d68e8-d17c-409a-f48a-d4c2091d3187"
      },
      "execution_count": 30,
      "outputs": [
        {
          "output_type": "execute_result",
          "data": {
            "text/plain": [
              "6.4989757955029"
            ]
          },
          "metadata": {},
          "execution_count": 30
        }
      ]
    },
    {
      "cell_type": "code",
      "source": [
        "def cofficient_of_variance(data):\n",
        "  result = get_std_dev(data)/my_mean(data)\n",
        "  print(result)"
      ],
      "metadata": {
        "id": "deQyKWsJFfNg"
      },
      "execution_count": 31,
      "outputs": []
    },
    {
      "cell_type": "code",
      "source": [
        "cofficient_of_variance(X)\n",
        "cofficient_of_variance(Y)"
      ],
      "metadata": {
        "colab": {
          "base_uri": "https://localhost:8080/"
        },
        "id": "Kn2HHR1_F2EP",
        "outputId": "2ece9b6c-3940-4794-9229-8afce4c83e8a"
      },
      "execution_count": 32,
      "outputs": [
        {
          "output_type": "stream",
          "name": "stdout",
          "text": [
            "0.7705919141117381\n",
            "0.6758934827323017\n"
          ]
        }
      ]
    },
    {
      "cell_type": "code",
      "source": [
        "import numpy as np\n",
        "def cov(a, b):\n",
        "\n",
        "    if len(a) != len(b):\n",
        "        return\n",
        "\n",
        "    a_mean = np.mean(a)\n",
        "    b_mean = np.mean(b)\n",
        "\n",
        "    sum = 0\n",
        "\n",
        "    for i in range(0, len(a)):\n",
        "        sum += ((a[i] - a_mean) * (b[i] - b_mean))\n",
        "\n",
        "    return sum/(len(a)-1)"
      ],
      "metadata": {
        "id": "eEL_fAcEF7fT"
      },
      "execution_count": 33,
      "outputs": []
    },
    {
      "cell_type": "code",
      "source": [
        "cov(X, Y)"
      ],
      "metadata": {
        "colab": {
          "base_uri": "https://localhost:8080/"
        },
        "id": "N8dm_WQmGWEj",
        "outputId": "5be287cb-76e5-417c-850d-59c64fd7f9f2"
      },
      "execution_count": 34,
      "outputs": [
        {
          "output_type": "execute_result",
          "data": {
            "text/plain": [
              "24.378205128205128"
            ]
          },
          "metadata": {},
          "execution_count": 34
        }
      ]
    },
    {
      "cell_type": "code",
      "source": [
        "import math\n",
        " \n",
        "# function that returns correlation coefficient.\n",
        "def correlationCoefficient(X, Y, n) :\n",
        "    sum_X = 0\n",
        "    sum_Y = 0\n",
        "    sum_XY = 0\n",
        "    squareSum_X = 0\n",
        "    squareSum_Y = 0\n",
        "     \n",
        "     \n",
        "    i = 0\n",
        "    while i < n :\n",
        "        # sum of elements of array X.\n",
        "        sum_X = sum_X + X[i]\n",
        "         \n",
        "        # sum of elements of array Y.\n",
        "        sum_Y = sum_Y + Y[i]  \n",
        "         \n",
        "        # sum of X[i] * Y[i].\n",
        "        sum_XY = sum_XY + X[i] * Y[i]\n",
        "         \n",
        "        # sum of square of array elements.\n",
        "        squareSum_X = squareSum_X + X[i] * X[i]\n",
        "        squareSum_Y = squareSum_Y + Y[i] * Y[i]\n",
        "         \n",
        "        i = i + 1\n",
        "      \n",
        "        # use formula for calculating correlation\n",
        "         # coefficient.\n",
        "        corr = (float)(n * sum_XY - sum_X * sum_Y)/(float)(math.sqrt((n * squareSum_X -sum_X * sum_X)* (n * squareSum_Y -sum_Y * sum_Y)))\n",
        "        return corr"
      ],
      "metadata": {
        "id": "STsyIBaDGZU5"
      },
      "execution_count": 35,
      "outputs": []
    },
    {
      "cell_type": "code",
      "source": [
        "n = len(X)\n",
        "print ('{0:.6f}'.format(correlationCoefficient(X, Y, n)))"
      ],
      "metadata": {
        "colab": {
          "base_uri": "https://localhost:8080/"
        },
        "id": "BqJ14RreGj7w",
        "outputId": "a0c34c99-afbf-4869-d891-cb59b006e9d9"
      },
      "execution_count": 36,
      "outputs": [
        {
          "output_type": "stream",
          "name": "stdout",
          "text": [
            "1.000000\n"
          ]
        }
      ]
    },
    {
      "cell_type": "code",
      "source": [
        "#the correlation is perfect "
      ],
      "metadata": {
        "id": "tMW-dyVgG6im"
      },
      "execution_count": 37,
      "outputs": []
    },
    {
      "cell_type": "code",
      "source": [
        "# Correlation coefficients quantify the association between variables or features of a dataset.\n",
        "# These statistics are of high importance for science and technology,\n",
        "# and Python has great tools that you can use to calculate them. SciPy, NumPy, and pandas\n",
        "# correlation methods are fast, comprehensive, and well-documented."
      ],
      "metadata": {
        "id": "oLFVy_syNp-T"
      },
      "execution_count": null,
      "outputs": []
    }
  ]
}