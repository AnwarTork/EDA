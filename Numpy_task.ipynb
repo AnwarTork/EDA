{
  "cells": [
    {
      "cell_type": "code",
      "execution_count": null,
      "metadata": {
        "id": "IJglW8Ucf67_"
      },
      "outputs": [],
      "source": [
        "import numpy as np"
      ]
    },
    {
      "cell_type": "code",
      "execution_count": null,
      "metadata": {
        "id": "-FIQ1c9qf68H",
        "outputId": "c8459b9e-19b5-4933-a469-b0435ba3dbca"
      },
      "outputs": [
        {
          "data": {
            "text/plain": [
              "array([3, 2, 5, 8, 4, 9, 7, 6, 1])"
            ]
          },
          "execution_count": 3,
          "metadata": {},
          "output_type": "execute_result"
        }
      ],
      "source": [
        "python_list = [3,2,5,8,4,9,7,6,1]\n",
        "array = np.array(python_list)\n",
        "array"
      ]
    },
    {
      "cell_type": "code",
      "execution_count": null,
      "metadata": {
        "id": "TWVZjI7ff68L",
        "outputId": "f0e2834d-b6c9-4390-e96a-2fee02120cc6"
      },
      "outputs": [
        {
          "data": {
            "text/plain": [
              "numpy.ndarray"
            ]
          },
          "execution_count": 4,
          "metadata": {},
          "output_type": "execute_result"
        }
      ],
      "source": [
        "type(array)"
      ]
    },
    {
      "cell_type": "code",
      "execution_count": null,
      "metadata": {
        "id": "4-OeE9xLf68M",
        "outputId": "370f26c4-1bfe-4d51-9218-849eb91a0d2b"
      },
      "outputs": [
        {
          "data": {
            "text/plain": [
              "array([[3, 2, 5],\n",
              "       [9, 7, 1],\n",
              "       [4, 3, 6]])"
            ]
          },
          "execution_count": 5,
          "metadata": {},
          "output_type": "execute_result"
        }
      ],
      "source": [
        "python_list_of_lists = [[3,2,5],\n",
        "                       [9,7,1],\n",
        "                       [4,3,6]]\n",
        "np.array(python_list_of_lists)"
      ]
    },
    {
      "cell_type": "code",
      "execution_count": null,
      "metadata": {
        "id": "q2gyfBK1f68N"
      },
      "outputs": [],
      "source": [
        "python_list = [\"beep\",False,56,.945,[3,2,5]]"
      ]
    },
    {
      "cell_type": "code",
      "execution_count": null,
      "metadata": {
        "id": "y8K-HJ7tf68O"
      },
      "outputs": [],
      "source": [
        "numpy_boolean_array = [[True, False], [True, True], [False, True]]\n",
        "\n",
        "numpy_float_array = [1.9, 5.4, 8.8, 3.6, 3.2]"
      ]
    },
    {
      "cell_type": "code",
      "execution_count": null,
      "metadata": {
        "id": "zJ-hJ5K8f68P",
        "outputId": "949ae12e-d5cd-41dd-a440-48a5c3984f94"
      },
      "outputs": [
        {
          "data": {
            "text/plain": [
              "array([[0., 0., 0.],\n",
              "       [0., 0., 0.],\n",
              "       [0., 0., 0.],\n",
              "       [0., 0., 0.],\n",
              "       [0., 0., 0.]])"
            ]
          },
          "execution_count": 8,
          "metadata": {},
          "output_type": "execute_result"
        }
      ],
      "source": [
        "np.zeros((5,3))"
      ]
    },
    {
      "cell_type": "code",
      "execution_count": null,
      "metadata": {
        "id": "XOm10nN7f68R",
        "outputId": "acef4b5f-4a1b-442b-c3a1-8c0f201099b5"
      },
      "outputs": [
        {
          "data": {
            "text/plain": [
              "array([[0.68398342, 0.85545082, 0.42900295, 0.1099469 ],\n",
              "       [0.76532404, 0.44276362, 0.74646645, 0.63933367]])"
            ]
          },
          "execution_count": 9,
          "metadata": {},
          "output_type": "execute_result"
        }
      ],
      "source": [
        "np.random.random((2,4))"
      ]
    },
    {
      "cell_type": "code",
      "execution_count": null,
      "metadata": {
        "id": "XXVR4-quf68S",
        "outputId": "c67c8614-c8be-4d32-8328-f2e3ba5b77e5"
      },
      "outputs": [
        {
          "data": {
            "text/plain": [
              "array([-3, -2, -1,  0,  1,  2,  3])"
            ]
          },
          "execution_count": 12,
          "metadata": {},
          "output_type": "execute_result"
        }
      ],
      "source": [
        "np.arange(-3,4)"
      ]
    },
    {
      "cell_type": "code",
      "execution_count": null,
      "metadata": {
        "id": "6SvrGvpLf68U",
        "outputId": "ad122d63-fb62-4a61-bf8a-4435d096d88c"
      },
      "outputs": [
        {
          "data": {
            "text/plain": [
              "array([0, 1, 2, 3])"
            ]
          },
          "execution_count": 13,
          "metadata": {},
          "output_type": "execute_result"
        }
      ],
      "source": [
        "np.arange(4)"
      ]
    },
    {
      "cell_type": "code",
      "execution_count": null,
      "metadata": {
        "id": "2NXuCmJMf68W",
        "outputId": "9f03b063-6a16-4425-d389-92a7f64ae42f"
      },
      "outputs": [
        {
          "data": {
            "text/plain": [
              "array([-3,  0,  3])"
            ]
          },
          "execution_count": 14,
          "metadata": {},
          "output_type": "execute_result"
        }
      ],
      "source": [
        "np.arange(-3, 4, 3)"
      ]
    },
    {
      "cell_type": "code",
      "execution_count": null,
      "metadata": {
        "id": "mop6nUk0f68Y",
        "outputId": "12577e12-38ee-4e69-9c98-29aa97d62802"
      },
      "outputs": [
        {
          "name": "stdout",
          "output_type": "stream",
          "text": [
            "[[0. 0. 0. 0. 0.]\n",
            " [0. 0. 0. 0. 0.]\n",
            " [0. 0. 0. 0. 0.]]\n"
          ]
        }
      ],
      "source": [
        "array = np.zeros((3, 5))\n",
        "print(array)"
      ]
    },
    {
      "cell_type": "code",
      "execution_count": null,
      "metadata": {
        "id": "uEWo11tdf68Z",
        "outputId": "9fb74938-97b8-4b1f-a068-e6d2b3f1805f"
      },
      "outputs": [
        {
          "data": {
            "text/plain": [
              "(3, 5)"
            ]
          },
          "execution_count": 16,
          "metadata": {},
          "output_type": "execute_result"
        }
      ],
      "source": [
        "array.shape"
      ]
    },
    {
      "cell_type": "code",
      "execution_count": null,
      "metadata": {
        "id": "_QwkdgcNf68Z",
        "outputId": "edb54845-2d69-44d4-cccc-33edd425cbd2"
      },
      "outputs": [
        {
          "data": {
            "text/plain": [
              "array([[1, 2],\n",
              "       [5, 7],\n",
              "       [6, 6]])"
            ]
          },
          "execution_count": 17,
          "metadata": {},
          "output_type": "execute_result"
        }
      ],
      "source": [
        "array = np.array([[1, 2], [5, 7], [6, 6]])\n",
        "array"
      ]
    },
    {
      "cell_type": "code",
      "execution_count": null,
      "metadata": {
        "id": "nmNRpQq4f68a",
        "outputId": "bd1b67c3-488e-4e7f-a9c7-41b08159246d"
      },
      "outputs": [
        {
          "data": {
            "text/plain": [
              "array([1, 2, 5, 7, 6, 6])"
            ]
          },
          "execution_count": 18,
          "metadata": {},
          "output_type": "execute_result"
        }
      ],
      "source": [
        "array.flatten()"
      ]
    },
    {
      "cell_type": "code",
      "execution_count": null,
      "metadata": {
        "id": "TCEMU_E0f68b",
        "outputId": "9c26ce1f-b31c-4647-93a6-840aae8af12f"
      },
      "outputs": [
        {
          "data": {
            "text/plain": [
              "array([[1, 2, 5],\n",
              "       [7, 6, 6]])"
            ]
          },
          "execution_count": 19,
          "metadata": {},
          "output_type": "execute_result"
        }
      ],
      "source": [
        "array.reshape((2, 3))"
      ]
    },
    {
      "cell_type": "code",
      "execution_count": null,
      "metadata": {
        "id": "my1LFCyif68c",
        "outputId": "a540f160-903f-4a92-b550-ce7057defd5d"
      },
      "outputs": [
        {
          "ename": "ValueError",
          "evalue": "cannot reshape array of size 6 into shape (3,3)",
          "output_type": "error",
          "traceback": [
            "\u001b[1;31m---------------------------------------------------------------------------\u001b[0m",
            "\u001b[1;31mValueError\u001b[0m                                Traceback (most recent call last)",
            "\u001b[1;32m<ipython-input-20-37fd03ce76b1>\u001b[0m in \u001b[0;36m<module>\u001b[1;34m\u001b[0m\n\u001b[1;32m----> 1\u001b[1;33m \u001b[0marray\u001b[0m\u001b[1;33m.\u001b[0m\u001b[0mreshape\u001b[0m\u001b[1;33m(\u001b[0m\u001b[1;33m(\u001b[0m\u001b[1;36m3\u001b[0m\u001b[1;33m,\u001b[0m \u001b[1;36m3\u001b[0m\u001b[1;33m)\u001b[0m\u001b[1;33m)\u001b[0m\u001b[1;33m\u001b[0m\u001b[1;33m\u001b[0m\u001b[0m\n\u001b[0m",
            "\u001b[1;31mValueError\u001b[0m: cannot reshape array of size 6 into shape (3,3)"
          ]
        }
      ],
      "source": [
        "array.reshape((3, 3))"
      ]
    },
    {
      "cell_type": "code",
      "execution_count": null,
      "metadata": {
        "id": "1G64Lonsf68c",
        "outputId": "c0c88dfd-5bd5-4953-d007-ec09882db928"
      },
      "outputs": [
        {
          "data": {
            "text/plain": [
              "dtype('float64')"
            ]
          },
          "execution_count": 21,
          "metadata": {},
          "output_type": "execute_result"
        }
      ],
      "source": [
        "np.array([1.32, 5.78, 175.55]).dtype"
      ]
    },
    {
      "cell_type": "code",
      "execution_count": null,
      "metadata": {
        "id": "2ii4mRbBf68d",
        "outputId": "4557e6a3-57b4-4750-bf95-8f908e9480cf"
      },
      "outputs": [
        {
          "data": {
            "text/plain": [
              "dtype('int32')"
            ]
          },
          "execution_count": 22,
          "metadata": {},
          "output_type": "execute_result"
        }
      ],
      "source": [
        "int_array = np.array([[1, 2, 3], [4, 5, 6]])\n",
        "int_array.dtype"
      ]
    },
    {
      "cell_type": "code",
      "execution_count": null,
      "metadata": {
        "id": "pS6OP3fDf68d",
        "outputId": "4ad4a4e3-f98c-49d8-cc73-49f0a04f8a24"
      },
      "outputs": [
        {
          "data": {
            "text/plain": [
              "dtype('<U12')"
            ]
          },
          "execution_count": 23,
          "metadata": {},
          "output_type": "execute_result"
        }
      ],
      "source": [
        "np.array([\"Introduction\",\"to\",\"NumPy\"]).dtype"
      ]
    },
    {
      "cell_type": "code",
      "execution_count": null,
      "metadata": {
        "id": "RArRkvT-f68e",
        "outputId": "f8bece4e-e5e1-4b87-a5bc-981d08d1535c"
      },
      "outputs": [
        {
          "data": {
            "text/plain": [
              "array(['True', 'Boop', '42', '42.42'], dtype='<U32')"
            ]
          },
          "execution_count": 24,
          "metadata": {},
          "output_type": "execute_result"
        }
      ],
      "source": [
        "np.array([True,\"Boop\", 42, 42.42])"
      ]
    },
    {
      "cell_type": "code",
      "execution_count": null,
      "metadata": {
        "id": "R0VaGpGsf68f",
        "outputId": "a6bbb48d-6d99-406f-857d-2c03bf81394c"
      },
      "outputs": [
        {
          "data": {
            "text/plain": [
              "dtype('int32')"
            ]
          },
          "execution_count": 25,
          "metadata": {},
          "output_type": "execute_result"
        }
      ],
      "source": [
        "np.array([True, False, 42]).dtype"
      ]
    },
    {
      "cell_type": "code",
      "execution_count": null,
      "metadata": {
        "id": "5U807rHLf68g",
        "outputId": "7d70c855-bfe4-43cc-a909-4988b9bb9164"
      },
      "outputs": [
        {
          "data": {
            "text/plain": [
              "dtype('float64')"
            ]
          },
          "execution_count": 26,
          "metadata": {},
          "output_type": "execute_result"
        }
      ],
      "source": [
        "np.array([0, 42, 42.42]).dtype"
      ]
    },
    {
      "cell_type": "markdown",
      "metadata": {
        "id": "pMehIqLif68h"
      },
      "source": [
        "## the second session"
      ]
    },
    {
      "cell_type": "code",
      "execution_count": null,
      "metadata": {
        "id": "h2tn_3h1f68n",
        "outputId": "6c494e18-4703-4417-8b46-6306918b95e6"
      },
      "outputs": [
        {
          "data": {
            "text/plain": [
              "8"
            ]
          },
          "execution_count": 27,
          "metadata": {},
          "output_type": "execute_result"
        }
      ],
      "source": [
        "array = np.array([2, 4, 6, 8, 10])\n",
        "array[3]"
      ]
    },
    {
      "cell_type": "code",
      "execution_count": null,
      "metadata": {
        "id": "pDHlgQVkf68n",
        "outputId": "764e3ed1-2d12-4844-f48a-9274977bcb6f"
      },
      "outputs": [
        {
          "data": {
            "text/plain": [
              "array([[0, 0, 4, 3, 0, 0, 2, 0, 9],\n",
              "       [0, 0, 5, 0, 0, 9, 0, 0, 1],\n",
              "       [0, 7, 0, 0, 6, 0, 0, 4, 3],\n",
              "       [0, 0, 6, 0, 0, 2, 0, 8, 7],\n",
              "       [1, 9, 0, 0, 0, 7, 4, 0, 0],\n",
              "       [0, 5, 0, 0, 8, 3, 0, 0, 0],\n",
              "       [6, 0, 0, 0, 0, 0, 1, 0, 5],\n",
              "       [0, 0, 3, 5, 0, 8, 6, 9, 0],\n",
              "       [0, 4, 2, 9, 1, 0, 3, 0, 0]])"
            ]
          },
          "execution_count": 29,
          "metadata": {},
          "output_type": "execute_result"
        }
      ],
      "source": [
        "sudoku_game=[[0,0,4,3,0,0,2,0,9],\n",
        "             [0,0,5,0,0,9,0,0,1],\n",
        "             [0,7,0,0,6,0,0,4,3],\n",
        "             [0,0,6,0,0,2,0,8,7],\n",
        "             [1,9,0,0,0,7,4,0,0],\n",
        "             [0,5,0,0,8,3,0,0,0],\n",
        "             [6,0,0,0,0,0,1,0,5],\n",
        "             [0,0,3,5,0,8,6,9,0],\n",
        "             [0,4,2,9,1,0,3,0,0]]\n",
        "sudoku_game=np.array(sudoku_game)\n",
        "sudoku_game"
      ]
    },
    {
      "cell_type": "code",
      "execution_count": null,
      "metadata": {
        "id": "5QV2fXS2f68p",
        "outputId": "c7a36605-2fb9-4152-e355-6802f95a59d5"
      },
      "outputs": [
        {
          "data": {
            "text/plain": [
              "6"
            ]
          },
          "execution_count": 30,
          "metadata": {},
          "output_type": "execute_result"
        }
      ],
      "source": [
        "sudoku_game[2, 4]"
      ]
    },
    {
      "cell_type": "code",
      "execution_count": null,
      "metadata": {
        "id": "3PQwcQU6f68q",
        "outputId": "f9b72900-623b-4e0b-e28a-8f857c423dbc"
      },
      "outputs": [
        {
          "data": {
            "text/plain": [
              "array([0, 0, 4, 3, 0, 0, 2, 0, 9])"
            ]
          },
          "execution_count": 33,
          "metadata": {},
          "output_type": "execute_result"
        }
      ],
      "source": [
        "sudoku_game[0]"
      ]
    },
    {
      "cell_type": "code",
      "execution_count": null,
      "metadata": {
        "id": "XQYKC8OZf68r",
        "outputId": "5c39715d-477d-4a4e-9258-29ff3cc7cfc4"
      },
      "outputs": [
        {
          "data": {
            "text/plain": [
              "array([3, 0, 0, 0, 0, 0, 0, 5, 9])"
            ]
          },
          "execution_count": 34,
          "metadata": {},
          "output_type": "execute_result"
        }
      ],
      "source": [
        "sudoku_game[:, 3]"
      ]
    },
    {
      "cell_type": "code",
      "execution_count": null,
      "metadata": {
        "id": "LeNKOE57f68r",
        "outputId": "f029f63a-f202-4cc9-bc6e-2c11314eb05f"
      },
      "outputs": [
        {
          "data": {
            "text/plain": [
              "array([6, 8])"
            ]
          },
          "execution_count": 35,
          "metadata": {},
          "output_type": "execute_result"
        }
      ],
      "source": [
        "array = np.array([2, 4, 6, 8, 10])\n",
        "array[2:4]"
      ]
    },
    {
      "cell_type": "code",
      "execution_count": null,
      "metadata": {
        "id": "kbbVov8_f68s",
        "outputId": "b9364fa5-4d45-4bfd-fa8d-8d08422e2ed8"
      },
      "outputs": [
        {
          "data": {
            "text/plain": [
              "array([[0, 0, 2],\n",
              "       [0, 0, 7],\n",
              "       [0, 8, 3]])"
            ]
          },
          "execution_count": 36,
          "metadata": {},
          "output_type": "execute_result"
        }
      ],
      "source": [
        "sudoku_game[3:6, 3:6]"
      ]
    },
    {
      "cell_type": "code",
      "execution_count": null,
      "metadata": {
        "id": "iWcKlKKYf68u",
        "outputId": "87362825-8dac-4a46-ccf1-25bb02c5d35f"
      },
      "outputs": [
        {
          "data": {
            "text/plain": [
              "array([[0, 2],\n",
              "       [0, 3]])"
            ]
          },
          "execution_count": 37,
          "metadata": {},
          "output_type": "execute_result"
        }
      ],
      "source": [
        "sudoku_game[3:6:2, 3:6:2]"
      ]
    },
    {
      "cell_type": "code",
      "execution_count": null,
      "metadata": {
        "id": "WJxUug4Hf68v",
        "outputId": "31019b2d-b323-489c-c00d-6b5b7efa1bcc"
      },
      "outputs": [
        {
          "data": {
            "text/plain": [
              "array([[0, 0, 0, 0, 0, 2, 3, 4, 9],\n",
              "       [0, 0, 0, 0, 0, 0, 1, 5, 9],\n",
              "       [0, 0, 0, 0, 0, 3, 4, 6, 7],\n",
              "       [0, 0, 0, 0, 0, 2, 6, 7, 8],\n",
              "       [0, 0, 0, 0, 0, 1, 4, 7, 9],\n",
              "       [0, 0, 0, 0, 0, 0, 3, 5, 8],\n",
              "       [0, 0, 0, 0, 0, 0, 1, 5, 6],\n",
              "       [0, 0, 0, 0, 3, 5, 6, 8, 9],\n",
              "       [0, 0, 0, 0, 1, 2, 3, 4, 9]])"
            ]
          },
          "execution_count": 38,
          "metadata": {},
          "output_type": "execute_result"
        }
      ],
      "source": [
        "np.sort(sudoku_game)"
      ]
    },
    {
      "cell_type": "code",
      "execution_count": null,
      "metadata": {
        "id": "bj_nYf3Hf68w",
        "outputId": "c7539d1f-e4da-46d8-e792-7cb3ce5c102e"
      },
      "outputs": [
        {
          "data": {
            "text/plain": [
              "array([[0, 0, 0, 0, 0, 2, 3, 4, 9],\n",
              "       [0, 0, 0, 0, 0, 0, 1, 5, 9],\n",
              "       [0, 0, 0, 0, 0, 3, 4, 6, 7],\n",
              "       [0, 0, 0, 0, 0, 2, 6, 7, 8],\n",
              "       [0, 0, 0, 0, 0, 1, 4, 7, 9],\n",
              "       [0, 0, 0, 0, 0, 0, 3, 5, 8],\n",
              "       [0, 0, 0, 0, 0, 0, 1, 5, 6],\n",
              "       [0, 0, 0, 0, 3, 5, 6, 8, 9],\n",
              "       [0, 0, 0, 0, 1, 2, 3, 4, 9]])"
            ]
          },
          "execution_count": 39,
          "metadata": {},
          "output_type": "execute_result"
        }
      ],
      "source": [
        "np.sort(sudoku_game, axis=1)                 #np.sort(sudoku_game)"
      ]
    },
    {
      "cell_type": "code",
      "execution_count": null,
      "metadata": {
        "id": "g0DSLLbzf68x",
        "outputId": "8d56b568-f957-4282-8ff1-29c5ec27d542"
      },
      "outputs": [
        {
          "data": {
            "text/plain": [
              "array([[0, 0, 0, 0, 0, 0, 0, 0, 0],\n",
              "       [0, 0, 0, 0, 0, 0, 0, 0, 0],\n",
              "       [0, 0, 0, 0, 0, 0, 0, 0, 0],\n",
              "       [0, 0, 0, 0, 0, 0, 0, 0, 0],\n",
              "       [0, 0, 2, 0, 0, 2, 1, 0, 1],\n",
              "       [0, 4, 3, 0, 0, 3, 2, 0, 3],\n",
              "       [0, 5, 4, 3, 1, 7, 3, 4, 5],\n",
              "       [1, 7, 5, 5, 6, 8, 4, 8, 7],\n",
              "       [6, 9, 6, 9, 8, 9, 6, 9, 9]])"
            ]
          },
          "execution_count": 40,
          "metadata": {},
          "output_type": "execute_result"
        }
      ],
      "source": [
        "np.sort(sudoku_game, axis=0)"
      ]
    },
    {
      "cell_type": "code",
      "execution_count": null,
      "metadata": {
        "id": "Wv83z2rAf68y",
        "outputId": "432b5511-797d-4e8b-cc09-36830701ae13"
      },
      "outputs": [
        {
          "data": {
            "text/plain": [
              "array([1, 2, 3, 4, 5])"
            ]
          },
          "execution_count": 41,
          "metadata": {},
          "output_type": "execute_result"
        }
      ],
      "source": [
        "one_to_five = np.arange(1, 6)\n",
        "one_to_five"
      ]
    },
    {
      "cell_type": "code",
      "execution_count": null,
      "metadata": {
        "id": "Sg_jtStff68y",
        "outputId": "0a61a208-3cdd-4273-ceb2-ac13eddff323"
      },
      "outputs": [
        {
          "data": {
            "text/plain": [
              "array([False,  True, False,  True, False])"
            ]
          },
          "execution_count": 42,
          "metadata": {},
          "output_type": "execute_result"
        }
      ],
      "source": [
        "mask = one_to_five % 2 == 0\n",
        "mask"
      ]
    },
    {
      "cell_type": "code",
      "execution_count": null,
      "metadata": {
        "id": "ziM2VWSVf68z",
        "outputId": "74f5202f-01f0-422b-a667-c85f7fa7baaa"
      },
      "outputs": [
        {
          "data": {
            "text/plain": [
              "array([2, 4])"
            ]
          },
          "execution_count": 43,
          "metadata": {},
          "output_type": "execute_result"
        }
      ],
      "source": [
        "one_to_five = np.arange(1, 6)\n",
        "mask = one_to_five % 2 == 0\n",
        "one_to_five[mask]"
      ]
    },
    {
      "cell_type": "code",
      "execution_count": null,
      "metadata": {
        "id": "oP-q75iVf68z",
        "outputId": "075fe091-4f68-46e4-f2ec-e482f9a9a7e0"
      },
      "outputs": [
        {
          "data": {
            "text/plain": [
              "array([[ 1, 22],\n",
              "       [ 2, 21],\n",
              "       [ 3, 27],\n",
              "       [ 4, 26]])"
            ]
          },
          "execution_count": 44,
          "metadata": {},
          "output_type": "execute_result"
        }
      ],
      "source": [
        "classroom_ids_and_sizes = np.array([[1, 22], [2, 21], [3, 27], [4, 26]])\n",
        "classroom_ids_and_sizes"
      ]
    },
    {
      "cell_type": "code",
      "execution_count": null,
      "metadata": {
        "id": "qnq5j5yUf683",
        "outputId": "7ef0806c-aef9-443c-ed3f-37a99267f119"
      },
      "outputs": [
        {
          "data": {
            "text/plain": [
              "array([ True, False, False,  True])"
            ]
          },
          "execution_count": 45,
          "metadata": {},
          "output_type": "execute_result"
        }
      ],
      "source": [
        "classroom_ids_and_sizes[:, 1] % 2 == 0"
      ]
    },
    {
      "cell_type": "code",
      "execution_count": null,
      "metadata": {
        "id": "I2ahWkBcf684",
        "outputId": "576e6b53-037a-47b7-dc12-85f4ba327968"
      },
      "outputs": [
        {
          "data": {
            "text/plain": [
              "array([1, 4])"
            ]
          },
          "execution_count": 46,
          "metadata": {},
          "output_type": "execute_result"
        }
      ],
      "source": [
        "classroom_ids_and_sizes[:, 0][classroom_ids_and_sizes[:, 1] % 2 == 0]"
      ]
    },
    {
      "cell_type": "code",
      "execution_count": null,
      "metadata": {
        "id": "gm_P7BiYf685",
        "outputId": "85a50151-febc-441b-fe91-e0a9f53fa075"
      },
      "outputs": [
        {
          "data": {
            "text/plain": [
              "array([[ 1, 22],\n",
              "       [ 2, 21],\n",
              "       [ 3, 27],\n",
              "       [ 4, 26]])"
            ]
          },
          "execution_count": 47,
          "metadata": {},
          "output_type": "execute_result"
        }
      ],
      "source": [
        "classroom_ids_and_sizes = np.array([[1, 22], [2, 21], [3, 27], [4, 26]])\n",
        "classroom_ids_and_sizes"
      ]
    },
    {
      "cell_type": "code",
      "execution_count": null,
      "metadata": {
        "id": "QvXG4mVRf686",
        "outputId": "656142af-6150-4977-a2c1-c12b132cc1cb"
      },
      "outputs": [
        {
          "name": "stdout",
          "output_type": "stream",
          "text": [
            "Element at row 0, column 0: 0\n",
            "Element at row 0, column 1: 0\n",
            "Element at row 0, column 4: 0\n",
            "Element at row 0, column 5: 0\n",
            "Element at row 0, column 7: 0\n",
            "Element at row 1, column 0: 0\n",
            "Element at row 1, column 1: 0\n",
            "Element at row 1, column 3: 0\n",
            "Element at row 1, column 4: 0\n",
            "Element at row 1, column 6: 0\n",
            "Element at row 1, column 7: 0\n",
            "Element at row 2, column 0: 0\n",
            "Element at row 2, column 2: 0\n",
            "Element at row 2, column 3: 0\n",
            "Element at row 2, column 5: 0\n",
            "Element at row 2, column 6: 0\n",
            "Element at row 3, column 0: 0\n",
            "Element at row 3, column 1: 0\n",
            "Element at row 3, column 3: 0\n",
            "Element at row 3, column 4: 0\n",
            "Element at row 3, column 6: 0\n",
            "Element at row 4, column 2: 0\n",
            "Element at row 4, column 3: 0\n",
            "Element at row 4, column 4: 0\n",
            "Element at row 4, column 7: 0\n",
            "Element at row 4, column 8: 0\n",
            "Element at row 5, column 0: 0\n",
            "Element at row 5, column 2: 0\n",
            "Element at row 5, column 3: 0\n",
            "Element at row 5, column 6: 0\n",
            "Element at row 5, column 7: 0\n",
            "Element at row 5, column 8: 0\n",
            "Element at row 6, column 1: 0\n",
            "Element at row 6, column 2: 0\n",
            "Element at row 6, column 3: 0\n",
            "Element at row 6, column 4: 0\n",
            "Element at row 6, column 5: 0\n",
            "Element at row 6, column 7: 0\n",
            "Element at row 7, column 0: 0\n",
            "Element at row 7, column 1: 0\n",
            "Element at row 7, column 4: 0\n",
            "Element at row 7, column 8: 0\n",
            "Element at row 8, column 0: 0\n",
            "Element at row 8, column 5: 0\n",
            "Element at row 8, column 7: 0\n",
            "Element at row 8, column 8: 0\n"
          ]
        }
      ],
      "source": [
        "import numpy as np\n",
        "\n",
        "sudoku_game = np.array([[0,0,4,3,0,0,2,0,9],\n",
        "                        [0,0,5,0,0,9,0,0,1],\n",
        "                        [0,7,0,0,6,0,0,4,3],\n",
        "                        [0,0,6,0,0,2,0,8,7],\n",
        "                        [1,9,0,0,0,7,4,0,0],\n",
        "                        [0,5,0,0,8,3,0,0,0],\n",
        "                        [6,0,0,0,0,0,1,0,5],\n",
        "                        [0,0,3,5,0,8,6,9,0],\n",
        "                        [0,4,2,9,1,0,3,0,0]])\n",
        "\n",
        "row_ind, column_ind = np.where(sudoku_game == 0)\n",
        "\n",
        "# Output the elements at the specified indices\n",
        "for row, col in zip(row_ind, column_ind):\n",
        "    element = sudoku_game[row, col]\n",
        "    print(f\"Element at row {row}, column {col}: {element}\")\n"
      ]
    },
    {
      "cell_type": "code",
      "execution_count": null,
      "metadata": {
        "id": "D2-iltiRf687",
        "outputId": "6269fd53-a4b8-431a-af73-91a2d30792e9"
      },
      "outputs": [
        {
          "data": {
            "text/plain": [
              "(array([0, 3], dtype=int64),)"
            ]
          },
          "execution_count": 49,
          "metadata": {},
          "output_type": "execute_result"
        }
      ],
      "source": [
        "np.where(classroom_ids_and_sizes[:, 1] % 2 == 0)"
      ]
    },
    {
      "cell_type": "code",
      "execution_count": null,
      "metadata": {
        "id": "eNnFgUGyf687"
      },
      "outputs": [],
      "source": [
        "sudoku_game=[[0,0,4,3,0,0,2,0,9],\n",
        "             [0,0,5,0,0,9,0,0,1],\n",
        "             [0,7,0,0,6,0,0,4,3],\n",
        "             [0,0,6,0,0,2,0,8,7],\n",
        "             [1,9,0,0,0,7,4,0,0],\n",
        "             [0,5,0,0,8,3,0,0,0],\n",
        "             [6,0,0,0,0,0,1,0,5],\n",
        "             [0,0,3,5,0,8,6,9,0],\n",
        "             [0,4,2,9,1,0,3,0,0]]\n",
        "sudoku_game=np.array(sudoku_game)"
      ]
    },
    {
      "cell_type": "code",
      "execution_count": null,
      "metadata": {
        "id": "jw4Ox03cf688",
        "outputId": "38824fc6-39b6-4e92-fdbc-19af5b8ab0b7"
      },
      "outputs": [
        {
          "data": {
            "text/plain": [
              "(array([0, 0, 0, 0, 0, 1, 1, 1, 1, 1, 1, 2, 2, 2, 2, 2, 3, 3, 3, 3, 3, 4,\n",
              "        4, 4, 4, 4, 5, 5, 5, 5, 5, 5, 6, 6, 6, 6, 6, 6, 7, 7, 7, 7, 8, 8,\n",
              "        8, 8], dtype=int64),\n",
              " array([0, 1, 4, 5, 7, 0, 1, 3, 4, 6, 7, 0, 2, 3, 5, 6, 0, 1, 3, 4, 6, 2,\n",
              "        3, 4, 7, 8, 0, 2, 3, 6, 7, 8, 1, 2, 3, 4, 5, 7, 0, 1, 4, 8, 0, 5,\n",
              "        7, 8], dtype=int64))"
            ]
          },
          "execution_count": 51,
          "metadata": {},
          "output_type": "execute_result"
        }
      ],
      "source": [
        "row_ind, column_ind = np.where(sudoku_game == 0)\n",
        "row_ind, column_ind"
      ]
    },
    {
      "cell_type": "code",
      "execution_count": null,
      "metadata": {
        "id": "xxWzy5_Tf688",
        "outputId": "72fe19e0-64e9-4a86-fcb0-8564192df851"
      },
      "outputs": [
        {
          "data": {
            "text/plain": [
              "array([['', '', '4', '3', '', '', '2', '', '9'],\n",
              "       ['', '', '5', '', '', '9', '', '', '1'],\n",
              "       ['', '7', '', '', '6', '', '', '4', '3'],\n",
              "       ['', '', '6', '', '', '2', '', '8', '7'],\n",
              "       ['1', '9', '', '', '', '7', '4', '', ''],\n",
              "       ['', '5', '', '', '8', '3', '', '', ''],\n",
              "       ['6', '', '', '', '', '', '1', '', '5'],\n",
              "       ['', '', '3', '5', '', '8', '6', '9', ''],\n",
              "       ['', '4', '2', '9', '1', '', '3', '', '']], dtype='<U11')"
            ]
          },
          "execution_count": 52,
          "metadata": {},
          "output_type": "execute_result"
        }
      ],
      "source": [
        "np.where(sudoku_game == 0,\"\", sudoku_game)"
      ]
    },
    {
      "cell_type": "code",
      "execution_count": null,
      "metadata": {
        "id": "UfZVINDKf689",
        "outputId": "1a23cc50-86cc-4f37-ed19-d71b2d1147dd"
      },
      "outputs": [
        {
          "data": {
            "text/plain": [
              "array([[ 1, 22],\n",
              "       [ 2, 21],\n",
              "       [ 3, 27],\n",
              "       [ 4, 26]])"
            ]
          },
          "execution_count": 53,
          "metadata": {},
          "output_type": "execute_result"
        }
      ],
      "source": [
        "classroom_ids_and_sizes = np.array([[1, 22], [2, 21], [3, 27], [4, 26]])\n",
        "new_classrooms = np.array([[5, 30], [6, 17]])\n",
        "classroom_ids_and_sizes"
      ]
    },
    {
      "cell_type": "code",
      "execution_count": null,
      "metadata": {
        "id": "FXDalLJcf68-",
        "outputId": "d648ea46-c251-47b6-ca80-542ad1219f26"
      },
      "outputs": [
        {
          "data": {
            "text/plain": [
              "array([[ 5, 30],\n",
              "       [ 6, 17]])"
            ]
          },
          "execution_count": 54,
          "metadata": {},
          "output_type": "execute_result"
        }
      ],
      "source": [
        "new_classrooms"
      ]
    },
    {
      "cell_type": "code",
      "execution_count": null,
      "metadata": {
        "id": "lBS1JQ-2f68-",
        "outputId": "6664e243-9f07-4a38-b3a4-885e3c7a888f"
      },
      "outputs": [
        {
          "data": {
            "text/plain": [
              "array([[ 1, 22],\n",
              "       [ 2, 21],\n",
              "       [ 3, 27],\n",
              "       [ 4, 26],\n",
              "       [ 5, 30],\n",
              "       [ 6, 17]])"
            ]
          },
          "execution_count": 55,
          "metadata": {},
          "output_type": "execute_result"
        }
      ],
      "source": [
        "np.concatenate((classroom_ids_and_sizes, new_classrooms))"
      ]
    },
    {
      "cell_type": "code",
      "execution_count": null,
      "metadata": {
        "id": "qrTJ0shjf68_",
        "outputId": "d946a08b-434b-4d28-8670-396ff3653b49"
      },
      "outputs": [
        {
          "data": {
            "text/plain": [
              "array([['1', '22', '1', 'Moahmed'],\n",
              "       ['2', '21', '1', 'Ahmed'],\n",
              "       ['3', '27', '3', 'Beshoy'],\n",
              "       ['4', '26', '3', 'Nadia']], dtype='<U11')"
            ]
          },
          "execution_count": 56,
          "metadata": {},
          "output_type": "execute_result"
        }
      ],
      "source": [
        "classroom_ids_and_sizes = np.array([[1, 22], [2, 21], [3, 27], [4, 26]])\n",
        "grade_levels_and_teachers = np.array([[1,\"Moahmed\"],\n",
        "                     [1,\"Ahmed\"],\n",
        "                     [3,\"Beshoy\"],\n",
        "                     [3,\"Nadia\"]])\n",
        "np.concatenate((classroom_ids_and_sizes, grade_levels_and_teachers), axis=1)"
      ]
    },
    {
      "cell_type": "code",
      "execution_count": null,
      "metadata": {
        "id": "S-mEMCgqf68_",
        "outputId": "7d0e83c7-dcb0-469b-c37f-c418b8416bf2"
      },
      "outputs": [
        {
          "data": {
            "text/plain": [
              "array([['1', '22', '1', 'Mohamed'],\n",
              "       ['2', '21', '1', 'Ahmed'],\n",
              "       ['3', '27', '3', 'Beshoy'],\n",
              "       ['4', '26', '3', 'Nadia']], dtype='<U7')"
            ]
          },
          "execution_count": 57,
          "metadata": {},
          "output_type": "execute_result"
        }
      ],
      "source": [
        "classroom_data=[['1','22','1','Mohamed'],\n",
        "                ['2','21','1','Ahmed'],\n",
        "                ['3','27','3','Beshoy'],\n",
        "                ['4','26','3','Nadia']]\n",
        "classroom_data=np.array(classroom_data)\n",
        "classroom_data"
      ]
    },
    {
      "cell_type": "code",
      "execution_count": null,
      "metadata": {
        "id": "KSqlEoqqf69A",
        "outputId": "576afbee-2e39-4676-b004-dfefe616648e"
      },
      "outputs": [
        {
          "data": {
            "text/plain": [
              "array([['1', '22', '1', 'Mohamed'],\n",
              "       ['3', '27', '3', 'Beshoy'],\n",
              "       ['4', '26', '3', 'Nadia']], dtype='<U7')"
            ]
          },
          "execution_count": 58,
          "metadata": {},
          "output_type": "execute_result"
        }
      ],
      "source": [
        "np.delete(classroom_data, 1, axis=0)"
      ]
    },
    {
      "cell_type": "code",
      "execution_count": null,
      "metadata": {
        "id": "mGSg2Xqof69B",
        "outputId": "cd22dcc4-6f15-48a5-dd7b-40c485cd0730"
      },
      "outputs": [
        {
          "data": {
            "text/plain": [
              "array([['1', '1', 'Mohamed'],\n",
              "       ['2', '1', 'Ahmed'],\n",
              "       ['3', '3', 'Beshoy'],\n",
              "       ['4', '3', 'Nadia']], dtype='<U7')"
            ]
          },
          "execution_count": 59,
          "metadata": {},
          "output_type": "execute_result"
        }
      ],
      "source": [
        "np.delete(classroom_data, 1, axis=1)"
      ]
    },
    {
      "cell_type": "code",
      "execution_count": null,
      "metadata": {
        "id": "Y7SYuj8if69B",
        "outputId": "8eb5ec0d-4c9d-4b81-b4ba-3c3beb04cf20"
      },
      "outputs": [
        {
          "data": {
            "text/plain": [
              "array(['1', '22', '1', 'Mohamed', '2', '21', '1', 'Ahmed', '3', '27', '3',\n",
              "       'Beshoy', '4', '26', '3'], dtype='<U7')"
            ]
          },
          "execution_count": 60,
          "metadata": {},
          "output_type": "execute_result"
        }
      ],
      "source": [
        "np.delete(classroom_data, 15)"
      ]
    },
    {
      "cell_type": "code",
      "execution_count": null,
      "metadata": {
        "id": "LMDSb_onf69C",
        "outputId": "e0fc555b-35f6-4fc2-aa59-065b3d165ae8"
      },
      "outputs": [
        {
          "data": {
            "text/plain": [
              "array([[0, 5, 1],\n",
              "       [0, 2, 0],\n",
              "       [1, 1, 2],\n",
              "       [2, 2, 1],\n",
              "       [0, 0, 0]])"
            ]
          },
          "execution_count": 61,
          "metadata": {},
          "output_type": "execute_result"
        }
      ],
      "source": [
        "security_breaches=np.array([[0, 5, 1],\n",
        "[0, 2, 0],\n",
        "[1, 1, 2],\n",
        "[2, 2, 1],\n",
        "[0, 0, 0]])\n",
        "security_breaches"
      ]
    },
    {
      "cell_type": "code",
      "execution_count": null,
      "metadata": {
        "id": "pKn9SeIQf69D",
        "outputId": "e39de7ac-6a8f-4dc1-b139-ec50d6caced6"
      },
      "outputs": [
        {
          "data": {
            "text/plain": [
              "17"
            ]
          },
          "execution_count": 62,
          "metadata": {},
          "output_type": "execute_result"
        }
      ],
      "source": [
        "security_breaches.sum()"
      ]
    },
    {
      "cell_type": "code",
      "execution_count": null,
      "metadata": {
        "id": "zvWBne4Hf69E",
        "outputId": "77f98c05-73ff-4e91-9223-a466da9f2e0c"
      },
      "outputs": [
        {
          "data": {
            "text/plain": [
              "array([ 3, 10,  4])"
            ]
          },
          "execution_count": 63,
          "metadata": {},
          "output_type": "execute_result"
        }
      ],
      "source": [
        "security_breaches.sum(axis=0)"
      ]
    },
    {
      "cell_type": "code",
      "execution_count": null,
      "metadata": {
        "id": "SR8KcbRof69E",
        "outputId": "b8011840-15ab-4bbd-e815-8eaa0162c297"
      },
      "outputs": [
        {
          "data": {
            "text/plain": [
              "array([6, 2, 4, 5, 0])"
            ]
          },
          "execution_count": 64,
          "metadata": {},
          "output_type": "execute_result"
        }
      ],
      "source": [
        "security_breaches.sum(axis=1)"
      ]
    },
    {
      "cell_type": "code",
      "execution_count": null,
      "metadata": {
        "id": "fOFoH2GYf69F",
        "outputId": "22defac3-e430-497c-99fd-3796a96e989d"
      },
      "outputs": [
        {
          "data": {
            "text/plain": [
              "0"
            ]
          },
          "execution_count": 65,
          "metadata": {},
          "output_type": "execute_result"
        }
      ],
      "source": [
        "security_breaches.min()"
      ]
    },
    {
      "cell_type": "code",
      "execution_count": null,
      "metadata": {
        "id": "ipwmsM8gf69G",
        "outputId": "e9735453-849f-4526-f46f-0f0dace50bef"
      },
      "outputs": [
        {
          "data": {
            "text/plain": [
              "5"
            ]
          },
          "execution_count": 66,
          "metadata": {},
          "output_type": "execute_result"
        }
      ],
      "source": [
        "security_breaches.max()"
      ]
    },
    {
      "cell_type": "code",
      "execution_count": null,
      "metadata": {
        "id": "9DDHkeUNf69I",
        "outputId": "2d11dff1-5157-410e-cee9-242df324ab4b"
      },
      "outputs": [
        {
          "data": {
            "text/plain": [
              "array([0, 0, 1, 1, 0])"
            ]
          },
          "execution_count": 67,
          "metadata": {},
          "output_type": "execute_result"
        }
      ],
      "source": [
        "security_breaches.min(axis=1)"
      ]
    },
    {
      "cell_type": "code",
      "execution_count": null,
      "metadata": {
        "id": "UScxWZK4f69J",
        "outputId": "e7c4d7f7-cfd6-4cdd-d770-39b195ff812b"
      },
      "outputs": [
        {
          "data": {
            "text/plain": [
              "1.1333333333333333"
            ]
          },
          "execution_count": 68,
          "metadata": {},
          "output_type": "execute_result"
        }
      ],
      "source": [
        "security_breaches.mean()"
      ]
    },
    {
      "cell_type": "code",
      "execution_count": null,
      "metadata": {
        "id": "W6351sk_f69K",
        "outputId": "cc99f85e-124d-4f09-a7d4-798107433f4c"
      },
      "outputs": [
        {
          "data": {
            "text/plain": [
              "array([2.        , 0.66666667, 1.33333333, 1.66666667, 0.        ])"
            ]
          },
          "execution_count": 69,
          "metadata": {},
          "output_type": "execute_result"
        }
      ],
      "source": [
        "security_breaches.mean(axis=1)"
      ]
    },
    {
      "cell_type": "code",
      "execution_count": null,
      "metadata": {
        "id": "Gi7xcxHnf69L",
        "outputId": "51ef8f68-7b90-4360-b354-a3babb0531b5"
      },
      "outputs": [
        {
          "data": {
            "text/plain": [
              "array([[6],\n",
              "       [2],\n",
              "       [4],\n",
              "       [5],\n",
              "       [0]])"
            ]
          },
          "execution_count": 70,
          "metadata": {},
          "output_type": "execute_result"
        }
      ],
      "source": [
        "security_breaches.sum(axis=1, keepdims=True)"
      ]
    },
    {
      "cell_type": "code",
      "execution_count": null,
      "metadata": {
        "id": "Segm9WEof69L",
        "outputId": "3194373d-af11-4b57-c121-d69cf88627ee"
      },
      "outputs": [
        {
          "data": {
            "text/plain": [
              "array([[ 0,  5,  1],\n",
              "       [ 0,  7,  1],\n",
              "       [ 1,  8,  3],\n",
              "       [ 3, 10,  4],\n",
              "       [ 3, 10,  4]], dtype=int32)"
            ]
          },
          "execution_count": 71,
          "metadata": {},
          "output_type": "execute_result"
        }
      ],
      "source": [
        "security_breaches.cumsum(axis=0)"
      ]
    },
    {
      "cell_type": "code",
      "execution_count": null,
      "metadata": {
        "id": "VAf6mtvsf69M",
        "outputId": "28508396-7c47-4ba4-ecb2-953b974f6e58"
      },
      "outputs": [
        {
          "data": {
            "text/plain": [
              "array([[4, 5, 6],\n",
              "       [7, 8, 9]])"
            ]
          },
          "execution_count": 72,
          "metadata": {},
          "output_type": "execute_result"
        }
      ],
      "source": [
        "array = np.array([[1, 2, 3], [4, 5, 6]])\n",
        "for row in range(array.shape[0]):\n",
        "    for column in range(array.shape[1]):\n",
        "        array[row][column] += 3\n",
        "array"
      ]
    },
    {
      "cell_type": "code",
      "execution_count": null,
      "metadata": {
        "id": "11nCqUz9f69M",
        "outputId": "61e5dd79-72dc-43a5-ac7f-69e665b2bb74"
      },
      "outputs": [
        {
          "data": {
            "text/plain": [
              "array([[4, 5, 6],\n",
              "       [7, 8, 9]])"
            ]
          },
          "execution_count": 73,
          "metadata": {},
          "output_type": "execute_result"
        }
      ],
      "source": [
        "array = np.array([[1, 2, 3], [4, 5, 6]])\n",
        "array + 3"
      ]
    },
    {
      "cell_type": "code",
      "execution_count": null,
      "metadata": {
        "id": "bG4yWEAyf69N",
        "outputId": "0e15550a-3e0e-4948-9d37-e738de1b2846"
      },
      "outputs": [
        {
          "data": {
            "text/plain": [
              "array([[ 3,  6,  9],\n",
              "       [12, 15, 18]])"
            ]
          },
          "execution_count": 74,
          "metadata": {},
          "output_type": "execute_result"
        }
      ],
      "source": [
        "array = np.array([[1, 2, 3], [4, 5, 6]])\n",
        "array * 3"
      ]
    },
    {
      "cell_type": "code",
      "execution_count": null,
      "metadata": {
        "id": "6ff3Z_VOf69N",
        "outputId": "0dd8b5bd-36f9-4af1-b9a5-95e8b6062c2c"
      },
      "outputs": [
        {
          "data": {
            "text/plain": [
              "array([[1, 3, 3],\n",
              "       [5, 5, 7]])"
            ]
          },
          "execution_count": 75,
          "metadata": {},
          "output_type": "execute_result"
        }
      ],
      "source": [
        "array_a = np.array([[1, 2, 3], [4, 5, 6]])\n",
        "array_b = np.array([[0, 1, 0], [1, 0, 1]])\n",
        "array_a + array_b"
      ]
    },
    {
      "cell_type": "code",
      "execution_count": null,
      "metadata": {
        "id": "mqyz2zAXf69O",
        "outputId": "343772c2-133c-4114-d9a2-372f2b2a7ed2"
      },
      "outputs": [
        {
          "data": {
            "text/plain": [
              "array([[0, 2, 0],\n",
              "       [4, 0, 6]])"
            ]
          },
          "execution_count": 76,
          "metadata": {},
          "output_type": "execute_result"
        }
      ],
      "source": [
        "array_a = np.array([[1, 2, 3], [4, 5, 6]])\n",
        "array_b = np.array([[0, 1, 0], [1, 0, 1]])\n",
        "array_a * array_b"
      ]
    },
    {
      "cell_type": "code",
      "execution_count": null,
      "metadata": {
        "id": "AkkGgxubf69O",
        "outputId": "ff439ece-33e1-4c6e-d02e-f886235fefa9"
      },
      "outputs": [
        {
          "data": {
            "text/plain": [
              "array([[ 0,  2,  4,  6,  8],\n",
              "       [ 5,  7,  9, 11, 13]])"
            ]
          },
          "execution_count": 77,
          "metadata": {},
          "output_type": "execute_result"
        }
      ],
      "source": [
        "array = np.arange(10).reshape((2, 5))\n",
        "array + np.array([0, 1, 2, 3, 4])"
      ]
    },
    {
      "cell_type": "code",
      "execution_count": null,
      "metadata": {
        "id": "_G8asm2lf69P",
        "outputId": "cb720d0a-d634-4900-8aba-41f074def284"
      },
      "outputs": [
        {
          "data": {
            "text/plain": [
              "array([1, 2, 3, 4])"
            ]
          },
          "execution_count": 78,
          "metadata": {},
          "output_type": "execute_result"
        }
      ],
      "source": [
        "arr = np.array([1, 2, 3, 2, 4, 1])\n",
        "np.unique(arr)"
      ]
    },
    {
      "cell_type": "code",
      "execution_count": null,
      "metadata": {
        "id": "iNOstohNf69P",
        "outputId": "a7fdf1ae-75f6-4448-efca-7a7c890ab49e"
      },
      "outputs": [
        {
          "data": {
            "text/plain": [
              "array([0. , 0.1, 0.2, 0.3, 0.4, 0.5, 0.6, 0.7, 0.8, 0.9, 1. ])"
            ]
          },
          "execution_count": 79,
          "metadata": {},
          "output_type": "execute_result"
        }
      ],
      "source": [
        "np.linspace(0, 1, num=11)"
      ]
    },
    {
      "cell_type": "code",
      "execution_count": null,
      "metadata": {
        "id": "st6HFogyf69Q"
      },
      "outputs": [],
      "source": [
        "x=np.array([1, 2, 3, 5, 6, 7]) #Deleting elements"
      ]
    },
    {
      "cell_type": "code",
      "execution_count": null,
      "metadata": {
        "id": "ZrApohMtf69Q",
        "outputId": "f96d0134-81ac-4088-ca24-1354665a2dea"
      },
      "outputs": [
        {
          "data": {
            "text/plain": [
              "array([2, 3, 5, 6, 7])"
            ]
          },
          "execution_count": 81,
          "metadata": {},
          "output_type": "execute_result"
        }
      ],
      "source": [
        "np.delete(x, 0) #(array, position)"
      ]
    },
    {
      "cell_type": "code",
      "execution_count": null,
      "metadata": {
        "id": "WW17yo_1f69R",
        "outputId": "6860deaf-6a02-41a1-cb72-651a739b46f8"
      },
      "outputs": [
        {
          "data": {
            "text/plain": [
              "array([2, 3, 5, 6])"
            ]
          },
          "execution_count": 82,
          "metadata": {},
          "output_type": "execute_result"
        }
      ],
      "source": [
        "np.delete(x, (0, 5))"
      ]
    },
    {
      "cell_type": "code",
      "execution_count": null,
      "metadata": {
        "id": "Ydah1DeZf69S",
        "outputId": "4899ba05-f728-494b-cf60-570bda6027b1"
      },
      "outputs": [
        {
          "data": {
            "text/plain": [
              "array([[1, 2, 3],\n",
              "       [4, 5, 6],\n",
              "       [7, 8, 9]])"
            ]
          },
          "execution_count": 83,
          "metadata": {},
          "output_type": "execute_result"
        }
      ],
      "source": [
        "w = np.arange(1, 10).reshape(3, 3)\n",
        "v = np.delete(w, 0, axis = 0) #From the x axis in w array delete the first row\n",
        "w"
      ]
    },
    {
      "cell_type": "code",
      "execution_count": null,
      "metadata": {
        "id": "W4e0OBaQf69U",
        "outputId": "b7823d9c-c908-4bd6-aa81-32072bab45b5"
      },
      "outputs": [
        {
          "data": {
            "text/plain": [
              "array([[4, 5, 6],\n",
              "       [7, 8, 9]])"
            ]
          },
          "execution_count": 84,
          "metadata": {},
          "output_type": "execute_result"
        }
      ],
      "source": [
        "v"
      ]
    },
    {
      "cell_type": "code",
      "execution_count": null,
      "metadata": {
        "id": "UwNg8SqCf69V",
        "outputId": "70c4f6ff-d897-4e89-879f-c5ab62709ac6"
      },
      "outputs": [
        {
          "data": {
            "text/plain": [
              "array([[1, 2, 3],\n",
              "       [4, 5, 6],\n",
              "       [7, 8, 9]])"
            ]
          },
          "execution_count": 85,
          "metadata": {},
          "output_type": "execute_result"
        }
      ],
      "source": [
        "w = np.arange(1, 10).reshape(3, 3)\n",
        "v = np.delete(w, [0, 1], axis = 1) #From the x axis in w array delete the first and second column\n",
        "w"
      ]
    },
    {
      "cell_type": "code",
      "execution_count": null,
      "metadata": {
        "id": "ckcz_PDzf69X",
        "outputId": "1f776bd4-25fc-441c-e7d5-bd46408e94d1"
      },
      "outputs": [
        {
          "data": {
            "text/plain": [
              "array([[3],\n",
              "       [6],\n",
              "       [9]])"
            ]
          },
          "execution_count": 86,
          "metadata": {},
          "output_type": "execute_result"
        }
      ],
      "source": [
        "v"
      ]
    },
    {
      "cell_type": "code",
      "execution_count": null,
      "metadata": {
        "id": "edy7XX-Ff69Y",
        "outputId": "a975138f-0d35-4818-b676-7a1297513bf9"
      },
      "outputs": [
        {
          "name": "stdout",
          "output_type": "stream",
          "text": [
            "[1 3 5]\n"
          ]
        }
      ],
      "source": [
        "import numpy as np\n",
        "\n",
        "# Create an example ndarray\n",
        "arr = np.array([1, 2, 3, 4, 5])\n",
        "\n",
        "# Select the elements to delete\n",
        "elements_to_delete = [2, 4]\n",
        "\n",
        "# Create a boolean mask indicating the elements to delete\n",
        "mask = np.isin(arr, elements_to_delete)\n",
        "\n",
        "# Delete the selected elements\n",
        "new_arr = arr[~mask]\n",
        "\n",
        "print(new_arr)"
      ]
    },
    {
      "cell_type": "code",
      "execution_count": null,
      "metadata": {
        "id": "IH7-w0HDf69Z"
      },
      "outputs": [],
      "source": [
        "x = np.array([1, 2, 3, 5, 6, 7]) # Append element to array"
      ]
    },
    {
      "cell_type": "code",
      "execution_count": null,
      "metadata": {
        "id": "08ZJJmP6f69a",
        "outputId": "c24e412a-8ba0-45da-c7da-dc00234bc22c"
      },
      "outputs": [
        {
          "data": {
            "text/plain": [
              "array([1, 2, 3, 5, 6, 7, 8])"
            ]
          },
          "execution_count": 89,
          "metadata": {},
          "output_type": "execute_result"
        }
      ],
      "source": [
        "y = np.append(x, 8) # append into x array 8 in the last index #(array, element)\n",
        "y"
      ]
    },
    {
      "cell_type": "code",
      "execution_count": null,
      "metadata": {
        "id": "KqRvAPJ6f69c",
        "outputId": "96e6c7ad-35c4-4052-c0e6-43c561cd2935"
      },
      "outputs": [
        {
          "data": {
            "text/plain": [
              "array([1, 2, 3, 5, 6, 7, 8, 9])"
            ]
          },
          "execution_count": 90,
          "metadata": {},
          "output_type": "execute_result"
        }
      ],
      "source": [
        "y = np.append(x, (8, 9)) # append into x array 8 & 9 in the last index\n",
        "y"
      ]
    },
    {
      "cell_type": "code",
      "execution_count": null,
      "metadata": {
        "id": "9ABJ8ezVf69d",
        "outputId": "a8a6f889-6698-4309-e9bc-21a0e3825823"
      },
      "outputs": [
        {
          "data": {
            "text/plain": [
              "array([[1, 2, 3],\n",
              "       [4, 5, 6],\n",
              "       [7, 8, 9]])"
            ]
          },
          "execution_count": 91,
          "metadata": {},
          "output_type": "execute_result"
        }
      ],
      "source": [
        "w = np.arange(1, 10).reshape(3, 3)\n",
        "w1 = np.append(w, [[10, 11, 12]], axis = 0) # Add a row to w array with values 10, 11, 12 at the end #(array, elements, axis)\n",
        "w"
      ]
    },
    {
      "cell_type": "code",
      "execution_count": null,
      "metadata": {
        "id": "5w23WiH0f69d",
        "outputId": "7f7c1517-d4a3-4c26-c6dc-9385796ff1bd"
      },
      "outputs": [
        {
          "data": {
            "text/plain": [
              "array([[ 1,  2,  3],\n",
              "       [ 4,  5,  6],\n",
              "       [ 7,  8,  9],\n",
              "       [10, 11, 12]])"
            ]
          },
          "execution_count": 92,
          "metadata": {},
          "output_type": "execute_result"
        }
      ],
      "source": [
        "w1"
      ]
    },
    {
      "cell_type": "code",
      "execution_count": null,
      "metadata": {
        "id": "43JThxFpf69e",
        "outputId": "8457c58b-b9a6-4924-a1b9-9eb3aa3036f4"
      },
      "outputs": [
        {
          "data": {
            "text/plain": [
              "array([[1, 2, 3],\n",
              "       [4, 5, 6],\n",
              "       [7, 8, 9]])"
            ]
          },
          "execution_count": 93,
          "metadata": {},
          "output_type": "execute_result"
        }
      ],
      "source": [
        "w = np.arange(1, 10).reshape(3, 3)\n",
        "w1 = np.append(w, [[10], [11], [12]], axis = 1) # Add a column to w array with values 10, 11, 12 at the end\n",
        "w"
      ]
    },
    {
      "cell_type": "code",
      "execution_count": null,
      "metadata": {
        "id": "rBh0rhO3f69e",
        "outputId": "641ce76b-79e7-4f60-c445-7e7e725000dd"
      },
      "outputs": [
        {
          "data": {
            "text/plain": [
              "array([[ 1,  2,  3, 10],\n",
              "       [ 4,  5,  6, 11],\n",
              "       [ 7,  8,  9, 12]])"
            ]
          },
          "execution_count": 94,
          "metadata": {},
          "output_type": "execute_result"
        }
      ],
      "source": [
        "w1"
      ]
    },
    {
      "cell_type": "code",
      "execution_count": null,
      "metadata": {
        "id": "It03pq_ff69f",
        "outputId": "32861a2d-fc21-4418-bf7e-11ac77c66b7c"
      },
      "outputs": [
        {
          "data": {
            "text/plain": [
              "array([[1, 2, 3],\n",
              "       [4, 5, 6],\n",
              "       [7, 8, 9]])"
            ]
          },
          "execution_count": 95,
          "metadata": {},
          "output_type": "execute_result"
        }
      ],
      "source": [
        "w = np.arange(1, 10).reshape(3, 3)\n",
        "v = np.insert(w, 1, [[10, 11, 12]], axis = 0) # Add a row to w array with values 10, 11, 12 at the specific index\n",
        "w\n",
        "# =np.vstack((x,y,z,.......))\n"
      ]
    },
    {
      "cell_type": "code",
      "execution_count": null,
      "metadata": {
        "id": "_-GgSopif69f",
        "outputId": "6adad90d-907b-4666-d273-b3468fbc25cf"
      },
      "outputs": [
        {
          "data": {
            "text/plain": [
              "array([[ 1,  2,  3],\n",
              "       [10, 11, 12],\n",
              "       [ 4,  5,  6],\n",
              "       [ 7,  8,  9]])"
            ]
          },
          "execution_count": 96,
          "metadata": {},
          "output_type": "execute_result"
        }
      ],
      "source": [
        "v"
      ]
    },
    {
      "cell_type": "code",
      "execution_count": null,
      "metadata": {
        "id": "J2opA9BNf69g",
        "outputId": "a687da22-a350-445b-857c-ee0eaf9ea848"
      },
      "outputs": [
        {
          "data": {
            "text/plain": [
              "array([[1, 2, 3],\n",
              "       [4, 5, 6],\n",
              "       [7, 8, 9]])"
            ]
          },
          "execution_count": 97,
          "metadata": {},
          "output_type": "execute_result"
        }
      ],
      "source": [
        "w = np.arange(1, 10).reshape(3, 3)\n",
        "v = np.insert(w, 1, [10,11, 12], axis = 1) # Add a row to w array with values 10, 11, 12 at the specific index\n",
        "w  # (array, index, elements, axis)\n",
        "# =np.hstack((x,y,z,.......))"
      ]
    },
    {
      "cell_type": "code",
      "execution_count": null,
      "metadata": {
        "id": "rW5s48Sjf69h",
        "outputId": "f08baa46-dd0c-4492-93a5-611a79edb45d"
      },
      "outputs": [
        {
          "data": {
            "text/plain": [
              "array([[ 1, 10,  2,  3],\n",
              "       [ 4, 11,  5,  6],\n",
              "       [ 7, 12,  8,  9]])"
            ]
          },
          "execution_count": 98,
          "metadata": {},
          "output_type": "execute_result"
        }
      ],
      "source": [
        "v"
      ]
    },
    {
      "cell_type": "code",
      "execution_count": null,
      "metadata": {
        "id": "2aGgmuhof69i"
      },
      "outputs": [],
      "source": [
        "x = np.array([1, 2, 3, 4, 5])\n",
        "y = np.array([6, 2, 8, 9, 10])"
      ]
    },
    {
      "cell_type": "code",
      "execution_count": null,
      "metadata": {
        "id": "WuaPXmTEf69j",
        "outputId": "88c30686-b735-4a26-e5a0-1e2b9b259f4c"
      },
      "outputs": [
        {
          "data": {
            "text/plain": [
              "array([2])"
            ]
          },
          "execution_count": 100,
          "metadata": {},
          "output_type": "execute_result"
        }
      ],
      "source": [
        "interset = np.intersect1d(x,y)\n",
        "interset"
      ]
    },
    {
      "cell_type": "code",
      "execution_count": null,
      "metadata": {
        "id": "2_6EXgYOf69k",
        "outputId": "e937e508-8371-4853-f36c-18ef95ef9a80"
      },
      "outputs": [
        {
          "data": {
            "text/plain": [
              "array([ 6,  8,  9, 10])"
            ]
          },
          "execution_count": 101,
          "metadata": {},
          "output_type": "execute_result"
        }
      ],
      "source": [
        "diff = np.setdiff1d(y,x)\n",
        "diff"
      ]
    },
    {
      "cell_type": "code",
      "execution_count": null,
      "metadata": {
        "id": "dO6h6jaQf69l",
        "outputId": "aabc4d1f-9c4a-47f8-f17b-64a025871f31"
      },
      "outputs": [
        {
          "data": {
            "text/plain": [
              "array([ 1,  2,  3,  4,  5,  6,  8,  9, 10])"
            ]
          },
          "execution_count": 102,
          "metadata": {},
          "output_type": "execute_result"
        }
      ],
      "source": [
        "union = np.union1d(x,y)\n",
        "union"
      ]
    },
    {
      "cell_type": "code",
      "execution_count": null,
      "metadata": {
        "id": "n20AItxqf69l"
      },
      "outputs": [],
      "source": []
    }
  ],
  "metadata": {
    "kernelspec": {
      "display_name": "Python 3",
      "language": "python",
      "name": "python3"
    },
    "language_info": {
      "codemirror_mode": {
        "name": "ipython",
        "version": 3
      },
      "file_extension": ".py",
      "mimetype": "text/x-python",
      "name": "python",
      "nbconvert_exporter": "python",
      "pygments_lexer": "ipython3",
      "version": "3.8.5"
    },
    "colab": {
      "provenance": []
    }
  },
  "nbformat": 4,
  "nbformat_minor": 0
}